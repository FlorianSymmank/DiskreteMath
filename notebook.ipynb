{
 "cells": [
  {
   "cell_type": "code",
   "execution_count": 1,
   "metadata": {},
   "outputs": [
    {
     "name": "stdout",
     "output_type": "stream",
     "text": [
      "Requirement already satisfied: networkx in c:\\python312\\lib\\site-packages (3.4.2)\n",
      "Requirement already satisfied: matplotlib in c:\\python312\\lib\\site-packages (3.9.2)\n",
      "Requirement already satisfied: numpy in c:\\python312\\lib\\site-packages (2.1.1)\n",
      "Requirement already satisfied: contourpy>=1.0.1 in c:\\python312\\lib\\site-packages (from matplotlib) (1.3.0)\n",
      "Requirement already satisfied: cycler>=0.10 in c:\\python312\\lib\\site-packages (from matplotlib) (0.12.1)\n",
      "Requirement already satisfied: fonttools>=4.22.0 in c:\\python312\\lib\\site-packages (from matplotlib) (4.53.1)\n",
      "Requirement already satisfied: kiwisolver>=1.3.1 in c:\\python312\\lib\\site-packages (from matplotlib) (1.4.7)\n",
      "Requirement already satisfied: packaging>=20.0 in c:\\python312\\lib\\site-packages (from matplotlib) (24.1)\n",
      "Requirement already satisfied: pillow>=8 in c:\\python312\\lib\\site-packages (from matplotlib) (10.4.0)\n",
      "Requirement already satisfied: pyparsing>=2.3.1 in c:\\python312\\lib\\site-packages (from matplotlib) (3.1.4)\n",
      "Requirement already satisfied: python-dateutil>=2.7 in c:\\python312\\lib\\site-packages (from matplotlib) (2.9.0.post0)\n",
      "Requirement already satisfied: six>=1.5 in c:\\python312\\lib\\site-packages (from python-dateutil>=2.7->matplotlib) (1.16.0)\n",
      "Note: you may need to restart the kernel to use updated packages.\n"
     ]
    },
    {
     "name": "stderr",
     "output_type": "stream",
     "text": [
      "\n",
      "[notice] A new release of pip is available: 24.0 -> 25.0\n",
      "[notice] To update, run: python.exe -m pip install --upgrade pip\n"
     ]
    }
   ],
   "source": [
    "pip install networkx matplotlib numpy"
   ]
  },
  {
   "cell_type": "code",
   "execution_count": 2,
   "metadata": {},
   "outputs": [],
   "source": [
    "# Setup\n",
    "from IPython.display import display, Markdown, Latex, Math\n",
    "from itertools import combinations\n",
    "import math\n",
    "import random\n",
    "import heapq\n",
    "import matplotlib.pyplot as plt\n",
    "import networkx as nx\n",
    "from collections import defaultdict\n",
    "import numpy as np\n",
    "from decimal import Decimal, getcontext"
   ]
  },
  {
   "cell_type": "markdown",
   "metadata": {},
   "source": [
    "# ISBN 10"
   ]
  },
  {
   "cell_type": "markdown",
   "metadata": {},
   "source": [
    "## Prüfziffer berechnen"
   ]
  },
  {
   "cell_type": "code",
   "execution_count": 3,
   "metadata": {},
   "outputs": [],
   "source": [
    "def calculateCheckDigit(isbn10):\n",
    "    sum = 0\n",
    "    for i in range(9):\n",
    "        sum += (i + 1) * int(isbn10[i])\n",
    "    checkDigit = sum % 11\n",
    "    if checkDigit == 10:\n",
    "        return 'X'\n",
    "    else:\n",
    "        return str(checkDigit)"
   ]
  },
  {
   "cell_type": "code",
   "execution_count": 4,
   "metadata": {},
   "outputs": [
    {
     "data": {
      "text/markdown": [
       "isbn10: 305501517-**7**"
      ],
      "text/plain": [
       "<IPython.core.display.Markdown object>"
      ]
     },
     "metadata": {},
     "output_type": "display_data"
    }
   ],
   "source": [
    "isbn = \"305501517\"\n",
    "display(Markdown(f\"isbn10: {isbn}-**{calculateCheckDigit(isbn)}**\"))"
   ]
  },
  {
   "cell_type": "markdown",
   "metadata": {},
   "source": [
    "## Zahlendreher erkennen\n",
    "![Zahlendreher](images/isbn10_zahlendreher.png)"
   ]
  },
  {
   "cell_type": "markdown",
   "metadata": {},
   "source": [
    "# Inverse/Nullteiler/Ordnung  erkennen\n",
    "[a] ∈ ℤ_m besitzt genau dann ein Inverses [a]^–1, wenn ggT( a, m ) = 1."
   ]
  },
  {
   "cell_type": "code",
   "execution_count": 5,
   "metadata": {},
   "outputs": [],
   "source": [
    "def Inverses(a, m):\n",
    "    for i in range(m):\n",
    "        if (a * i) % m == 1:\n",
    "            return i\n",
    "    return None"
   ]
  },
  {
   "cell_type": "code",
   "execution_count": 6,
   "metadata": {},
   "outputs": [
    {
     "data": {
      "text/plain": [
       "2"
      ]
     },
     "execution_count": 6,
     "metadata": {},
     "output_type": "execute_result"
    }
   ],
   "source": [
    "Inverses(6, 11)\n",
    "# 6 * 2 = 12 % 11 = 1"
   ]
  },
  {
   "cell_type": "markdown",
   "metadata": {},
   "source": [
    "Andernfalls ist [a] ein Nullteiler, d.h. es gibt ein [b] ∈ ℤm mit [a⋅b] = [0]."
   ]
  },
  {
   "cell_type": "code",
   "execution_count": 7,
   "metadata": {},
   "outputs": [],
   "source": [
    "def NullTeilerErkennen(n):\n",
    "    nullteiler = []\n",
    "    for i in range(2, n):\n",
    "        if n % i == 0:\n",
    "            nullteiler.append(i)\n",
    "    return nullteiler"
   ]
  },
  {
   "cell_type": "code",
   "execution_count": 8,
   "metadata": {},
   "outputs": [
    {
     "data": {
      "text/plain": [
       "[2]"
      ]
     },
     "execution_count": 8,
     "metadata": {},
     "output_type": "execute_result"
    }
   ],
   "source": [
    "NullTeilerErkennen(4)\n",
    "# 2 * 2 = 4 % 4 = 0"
   ]
  },
  {
   "cell_type": "markdown",
   "metadata": {},
   "source": [
    "*Ordnung*: Die Funktion order(a, p) berechnet die Ordnung eines Elements a in Z^∗_p​, indem sie die kleinste positive Ganzzahl k findet, für die a^k≡ 1 mod p.  \n",
    "\n",
    "*Primitive Elemente*: Primitive Elemente sind diejenigen, deren Ordnung gleich φ(17)=16 ist. Dies wird durch die Bedingung ord_value == p - 1 erreicht."
   ]
  },
  {
   "cell_type": "code",
   "execution_count": 9,
   "metadata": {},
   "outputs": [],
   "source": [
    "def order(a, p):\n",
    "    k = 1\n",
    "    current = a % p\n",
    "    e = f\"{a}^{k}={current}%{p}, \"\n",
    "    while current != 1:\n",
    "        current = (current * a) % p\n",
    "        k += 1\n",
    "        e += f\"{a}^{k}={current}%{p}, \"\n",
    "    print(e[:-2])\n",
    "    return k"
   ]
  },
  {
   "cell_type": "code",
   "execution_count": 10,
   "metadata": {},
   "outputs": [
    {
     "name": "stdout",
     "output_type": "stream",
     "text": [
      "3^1=3%17, 3^2=9%17, 3^3=10%17, 3^4=13%17, 3^5=5%17, 3^6=15%17, 3^7=11%17, 3^8=16%17, 3^9=14%17, 3^10=8%17, 3^11=7%17, 3^12=4%17, 3^13=12%17, 3^14=2%17, 3^15=6%17, 3^16=1%17\n",
      "ord(3)=16\n",
      "Element 3 ist ein Erzeuger von Z_17, primitives Element\n"
     ]
    }
   ],
   "source": [
    "# Gegebene Zahlen\n",
    "element = 3\n",
    "p = 17\n",
    "\n",
    "ord = order(element, p)\n",
    "print(f\"ord({element})={ord}\")\n",
    "\n",
    "if ord == p - 1:\n",
    "    print(f\"Element {element} ist ein Erzeuger von Z_{p}, primitives Element\")\n",
    "else:\n",
    "    print(f\"Element {element} ist kein Erzeuger von Z_{p}\")"
   ]
  },
  {
   "cell_type": "markdown",
   "metadata": {},
   "source": [
    "#  System voller Kongruenzen mit z===a mod k, mit z=const."
   ]
  },
  {
   "cell_type": "code",
   "execution_count": 11,
   "metadata": {},
   "outputs": [],
   "source": [
    "def solve_congruence(z, a, k):\n",
    "    if (z - a) % k == 0:\n",
    "        return True, (z - a) // k\n",
    "    else:\n",
    "        return False, None"
   ]
  },
  {
   "cell_type": "code",
   "execution_count": 12,
   "metadata": {},
   "outputs": [
    {
     "name": "stdout",
     "output_type": "stream",
     "text": [
      "10 ≡ 2 (mod 4) ist erfüllt. Vielfaches: 2\n"
     ]
    }
   ],
   "source": [
    "# Beispielwerte\n",
    "z = 10  # Konstante\n",
    "a = 2   # Wert der Kongruenz\n",
    "k = 4   # Modulus\n",
    "\n",
    "ergebnis, vielfaches = solve_congruence(z, a, k)\n",
    "if ergebnis:\n",
    "    print(f\"{z} ≡ {a} (mod {k}) ist erfüllt. Vielfaches: {vielfaches}\")\n",
    "else:\n",
    "    print(f\"{z} ≡ {a} (mod {k}) ist nicht erfüllt.\")"
   ]
  },
  {
   "cell_type": "markdown",
   "metadata": {},
   "source": [
    "# GGT, GGT Rückwärts, Lemma von Bezout"
   ]
  },
  {
   "cell_type": "markdown",
   "metadata": {},
   "source": [
    "## GGT - Euklidischer Algorithmus"
   ]
  },
  {
   "cell_type": "code",
   "execution_count": 13,
   "metadata": {},
   "outputs": [],
   "source": [
    "def ggT(a, b, verbose=True):\n",
    "    while b != 0:\n",
    "        reminder = a % b\n",
    "        factor = a // b\n",
    "        if verbose:\n",
    "            print(f\"{a} = {factor} * {b} + {reminder}\")\n",
    "        a = b\n",
    "        b = reminder\n",
    "    return a"
   ]
  },
  {
   "cell_type": "code",
   "execution_count": 14,
   "metadata": {},
   "outputs": [
    {
     "name": "stdout",
     "output_type": "stream",
     "text": [
      "2406 = 3 * 654 + 444\n",
      "654 = 1 * 444 + 210\n",
      "444 = 2 * 210 + 24\n",
      "210 = 8 * 24 + 18\n",
      "24 = 1 * 18 + 6\n",
      "18 = 3 * 6 + 0\n"
     ]
    },
    {
     "data": {
      "text/markdown": [
       "ggt(2406, 654) = **6**"
      ],
      "text/plain": [
       "<IPython.core.display.Markdown object>"
      ]
     },
     "metadata": {},
     "output_type": "display_data"
    }
   ],
   "source": [
    "a = 2406\n",
    "b = 654\n",
    "display(Markdown(f\"ggt({a}, {b}) = **{ggT(a, b)}**\"))"
   ]
  },
  {
   "cell_type": "markdown",
   "metadata": {},
   "source": [
    "Was ist eine Einheit K?  \n",
    "Alle Einheiten e in K mit ggT(e,K)=1"
   ]
  },
  {
   "cell_type": "markdown",
   "metadata": {},
   "source": [
    "## Euklidischer Algorithmus rückwärts"
   ]
  },
  {
   "cell_type": "code",
   "execution_count": 15,
   "metadata": {},
   "outputs": [],
   "source": [
    "def ggTRueckwaerts(a, b):\n",
    "    if a == 0:\n",
    "        return b, 0, 1\n",
    "    gcd, x1, y1 = ggTRueckwaerts(b % a, a)\n",
    "    x = y1 - (b // a) * x1\n",
    "    y = x1\n",
    "    return gcd, x, y"
   ]
  },
  {
   "cell_type": "code",
   "execution_count": 16,
   "metadata": {},
   "outputs": [
    {
     "data": {
      "text/markdown": [
       "6 = **28** * 2406 + **-103** * 654"
      ],
      "text/plain": [
       "<IPython.core.display.Markdown object>"
      ]
     },
     "metadata": {},
     "output_type": "display_data"
    }
   ],
   "source": [
    "a = 2406\n",
    "b = 654\n",
    "gcd, x, y = ggTRueckwaerts(a, b)\n",
    "display(Markdown(f\"{gcd} = **{x}** * {a} + **{y}** * {b}\"))"
   ]
  },
  {
   "cell_type": "markdown",
   "metadata": {},
   "source": [
    "## Lemma von Bezout\n",
    "![Zahlendreher](images/lemma_bezout.png)"
   ]
  },
  {
   "cell_type": "code",
   "execution_count": 17,
   "metadata": {},
   "outputs": [],
   "source": [
    "def lemma_bezout(a, b):\n",
    "    print(f\"{a} * x - {b} * y = 0\\n\")\n",
    "    print(\"=== ggt ===\")\n",
    "    gcd = ggT(a, b)\n",
    "    print(f\"\\nggt({a}, {b}) = {gcd}\")\n",
    "    print(\"=== ggt ===\\n\")\n",
    "\n",
    "    # allgemeine Lösung xn = (x y)^t\n",
    "    x = b // gcd\n",
    "    y = a // gcd\n",
    "    r = a * x - b * y\n",
    "\n",
    "\n",
    "    display(Math(rf\"x = \\begin{{pmatrix}} x \\\\ y \\end{{pmatrix}} = x_p + x_n t\"))\n",
    "\n",
    "    print(f\"allgemeine Lösung:\")\n",
    "\n",
    "    display(Math(rf'2406 \\cdot \\frac{{{b}}}{{{gcd}}} - 654 \\cdot \\frac{{{a}}}{{{gcd}}} = {a} \\cdot {x} - {b} \\cdot {y} = {r}'))\n",
    "    allgemeineLoesung = rf\"\\begin{{pmatrix}} {x} \\\\ {y} \\end{{pmatrix}}\"\n",
    "    display(Math(rf'x_n = {allgemeineLoesung}'))\n",
    "\n",
    "    # partikuläre Lösung p = (px py)^t\n",
    "    _, px, py, = ggTRueckwaerts(a, b)\n",
    "    partikiulaereLoesung = rf\"\\begin{{pmatrix}} {px} \\\\ {py} \\end{{pmatrix}}\"\n",
    "    print(f\"partikuläre Lösung:\")\n",
    "    display(Math(rf'x_p = {partikiulaereLoesung}'))\n",
    "\n",
    "    print(\"alle Lösungen:\")\n",
    "    display(Math(rf'x = \\begin{{pmatrix}} x \\\\ y \\end{{pmatrix}} = {partikiulaereLoesung} + {allgemeineLoesung}t'))\n",
    "    display(Math(rf\"{a} ({px} + {x}t) - {b} ({py} + {y}t) = {gcd}\"))"
   ]
  },
  {
   "cell_type": "code",
   "execution_count": 18,
   "metadata": {},
   "outputs": [
    {
     "name": "stdout",
     "output_type": "stream",
     "text": [
      "2406 * x - 654 * y = 0\n",
      "\n",
      "=== ggt ===\n",
      "2406 = 3 * 654 + 444\n",
      "654 = 1 * 444 + 210\n",
      "444 = 2 * 210 + 24\n",
      "210 = 8 * 24 + 18\n",
      "24 = 1 * 18 + 6\n",
      "18 = 3 * 6 + 0\n",
      "\n",
      "ggt(2406, 654) = 6\n",
      "=== ggt ===\n",
      "\n"
     ]
    },
    {
     "data": {
      "text/latex": [
       "$\\displaystyle x = \\begin{pmatrix} x \\\\ y \\end{pmatrix} = x_p + x_n t$"
      ],
      "text/plain": [
       "<IPython.core.display.Math object>"
      ]
     },
     "metadata": {},
     "output_type": "display_data"
    },
    {
     "name": "stdout",
     "output_type": "stream",
     "text": [
      "allgemeine Lösung:\n"
     ]
    },
    {
     "data": {
      "text/latex": [
       "$\\displaystyle 2406 \\cdot \\frac{654}{6} - 654 \\cdot \\frac{2406}{6} = 2406 \\cdot 109 - 654 \\cdot 401 = 0$"
      ],
      "text/plain": [
       "<IPython.core.display.Math object>"
      ]
     },
     "metadata": {},
     "output_type": "display_data"
    },
    {
     "data": {
      "text/latex": [
       "$\\displaystyle x_n = \\begin{pmatrix} 109 \\\\ 401 \\end{pmatrix}$"
      ],
      "text/plain": [
       "<IPython.core.display.Math object>"
      ]
     },
     "metadata": {},
     "output_type": "display_data"
    },
    {
     "name": "stdout",
     "output_type": "stream",
     "text": [
      "partikuläre Lösung:\n"
     ]
    },
    {
     "data": {
      "text/latex": [
       "$\\displaystyle x_p = \\begin{pmatrix} 28 \\\\ -103 \\end{pmatrix}$"
      ],
      "text/plain": [
       "<IPython.core.display.Math object>"
      ]
     },
     "metadata": {},
     "output_type": "display_data"
    },
    {
     "name": "stdout",
     "output_type": "stream",
     "text": [
      "alle Lösungen:\n"
     ]
    },
    {
     "data": {
      "text/latex": [
       "$\\displaystyle x = \\begin{pmatrix} x \\\\ y \\end{pmatrix} = \\begin{pmatrix} 28 \\\\ -103 \\end{pmatrix} + \\begin{pmatrix} 109 \\\\ 401 \\end{pmatrix}t$"
      ],
      "text/plain": [
       "<IPython.core.display.Math object>"
      ]
     },
     "metadata": {},
     "output_type": "display_data"
    },
    {
     "data": {
      "text/latex": [
       "$\\displaystyle 2406 (28 + 109t) - 654 (-103 + 401t) = 6$"
      ],
      "text/plain": [
       "<IPython.core.display.Math object>"
      ]
     },
     "metadata": {},
     "output_type": "display_data"
    }
   ],
   "source": [
    "a = 2406\n",
    "b = 654\n",
    "lemma_bezout(a, b)"
   ]
  },
  {
   "cell_type": "markdown",
   "metadata": {},
   "source": [
    "# Chinesischer Restsatz - simultane Kongruenzen"
   ]
  },
  {
   "cell_type": "code",
   "execution_count": 19,
   "metadata": {},
   "outputs": [],
   "source": [
    "def chinesischer_restklassensatz(congruences):\n",
    "    print(\"Chinesischer Restklassensatz:\")\n",
    "    # Extract divisors and remainders from tuples\n",
    "    num = [n for n, r in congruences]\n",
    "    rem = [r for n, r in congruences]\n",
    "\n",
    "    # Compute product of all numbers\n",
    "    prod = 1\n",
    "    for n in num:\n",
    "        prod *= n\n",
    "    print(f\"mod = {\" * \".join(map(str, num))} = {prod}\\n\")\n",
    "\n",
    "    terms = []\n",
    "    result = 0\n",
    "    # Apply CRT formula\n",
    "    for n, r in zip(num, rem):\n",
    "        pp = prod // n\n",
    "        gcd, inv, _ = ggTRueckwaerts(pp, n)\n",
    "        inv = inv % n  # Ensure the inverse is positive\n",
    "        term = r * pp * inv\n",
    "        result += term\n",
    "        terms.append(term)\n",
    "        print(f\"Calculating term for modulus {n}:\")\n",
    "        print(f\"pp = {pp}, inverse = {inv}\")\n",
    "        print(f\"Term = {r} * {pp} * {inv} = {term}\\n\")\n",
    "\n",
    "    result = result % prod\n",
    "    print(f\"Final result:\")\n",
    "    print(f\"z = {\" + \".join(map(str, terms))} = {result} mod {prod}\")\n",
    "    return result"
   ]
  },
  {
   "cell_type": "code",
   "execution_count": 20,
   "metadata": {},
   "outputs": [
    {
     "name": "stdout",
     "output_type": "stream",
     "text": [
      "Chinesischer Restklassensatz:\n",
      "mod = 5 * 7 = 35\n",
      "\n",
      "Calculating term for modulus 5:\n",
      "pp = 7, inverse = 3\n",
      "Term = 3 * 7 * 3 = 63\n",
      "\n",
      "Calculating term for modulus 7:\n",
      "pp = 5, inverse = 3\n",
      "Term = 4 * 5 * 3 = 60\n",
      "\n",
      "Final result:\n",
      "z = 63 + 60 = 18 mod 35\n"
     ]
    },
    {
     "data": {
      "text/plain": [
       "18"
      ]
     },
     "execution_count": 20,
     "metadata": {},
     "output_type": "execute_result"
    }
   ],
   "source": [
    "# z = 3 (mod 5)\n",
    "# z = 4 (mod 7)\n",
    "# z = 5x + 3 = 7y + 4\n",
    "congruences = [(5, 3), # mod 5, rest 3\n",
    "               (7, 4) # mod 7, rest 4\n",
    "               ]\n",
    "chinesischer_restklassensatz(congruences)"
   ]
  },
  {
   "cell_type": "code",
   "execution_count": 21,
   "metadata": {},
   "outputs": [
    {
     "name": "stdout",
     "output_type": "stream",
     "text": [
      "Chinesischer Restklassensatz:\n",
      "mod = 11 * 8 * 15 = 1320\n",
      "\n",
      "Calculating term for modulus 11:\n",
      "pp = 120, inverse = 10\n",
      "Term = 3 * 120 * 10 = 3600\n",
      "\n",
      "Calculating term for modulus 8:\n",
      "pp = 165, inverse = 5\n",
      "Term = 6 * 165 * 5 = 4950\n",
      "\n",
      "Calculating term for modulus 15:\n",
      "pp = 88, inverse = 7\n",
      "Term = 1 * 88 * 7 = 616\n",
      "\n",
      "Final result:\n",
      "z = 3600 + 4950 + 616 = 1246 mod 1320\n"
     ]
    },
    {
     "data": {
      "text/plain": [
       "1246"
      ]
     },
     "execution_count": 21,
     "metadata": {},
     "output_type": "execute_result"
    }
   ],
   "source": [
    "# z = 3 (mod 11) \n",
    "# z = 6 (mod 8)\n",
    "# z = 1 (mod 15)\n",
    "congruences = [\n",
    "    (11, 3), # mod 11, rest 3\n",
    "    (8, 6), # mod 8, rest 6\n",
    "    (15, 1) # mod 15, rest 1\n",
    "    ]\n",
    "chinesischer_restklassensatz(congruences)"
   ]
  },
  {
   "cell_type": "markdown",
   "metadata": {},
   "source": [
    "# Primfaktorzerlegung"
   ]
  },
  {
   "cell_type": "code",
   "execution_count": 22,
   "metadata": {},
   "outputs": [],
   "source": [
    "def p_factorization(n):\n",
    "    i = 2\n",
    "    lst = []\n",
    "    while i * i <= n:\n",
    "        if n % i:\n",
    "            i += 1\n",
    "        else:\n",
    "            n //= i\n",
    "            lst.append(i)\n",
    "    if n > 1:\n",
    "        lst.append(n)\n",
    "    return lst"
   ]
  },
  {
   "cell_type": "code",
   "execution_count": 23,
   "metadata": {},
   "outputs": [
    {
     "data": {
      "text/plain": [
       "[2, 2, 2, 3, 3, 5]"
      ]
     },
     "execution_count": 23,
     "metadata": {},
     "output_type": "execute_result"
    }
   ],
   "source": [
    "p_factorization(360)"
   ]
  },
  {
   "cell_type": "markdown",
   "metadata": {},
   "source": [
    "## Euler'sche Phi-Funktion\n",
    "![Euler'sche Phi-Funktion](images/euler_phi.png)\n",
    "\n",
    "phi(n) ist die anzahl teilerfremder Zahlen vor n, und es gilt die produktregel sodass phi(360) = phi(8 * 9 * 5) = phi(8) * phi(9) * phi(5)  \n",
    "phi(8) = phi(2^3) = 2^3 - 2^2 = 4  \n",
    "phi(9) = phi(3^2) = 3^2 - 3 = 6  \n",
    "phi(5) = 5 - 1 = 4  \n",
    "phi(360) = 4 * 6 * 4 = 96  "
   ]
  },
  {
   "cell_type": "code",
   "execution_count": 24,
   "metadata": {},
   "outputs": [],
   "source": [
    "def euler_phi(n):\n",
    "    result = n   # Start with result as n\n",
    "    p = 2\n",
    "\n",
    "    while p * p <= n:\n",
    "        if n % p == 0:\n",
    "            # This is a prime factor, apply the formula\n",
    "            while n % p == 0:\n",
    "                n //= p\n",
    "            result -= result // p\n",
    "        p += 1\n",
    "\n",
    "    if n > 1:  # If n is a prime number greater than 1\n",
    "        result -= result // n\n",
    "\n",
    "    return result"
   ]
  },
  {
   "cell_type": "code",
   "execution_count": 25,
   "metadata": {},
   "outputs": [
    {
     "data": {
      "text/plain": [
       "96"
      ]
     },
     "execution_count": 25,
     "metadata": {},
     "output_type": "execute_result"
    }
   ],
   "source": [
    "euler_phi(360)"
   ]
  },
  {
   "cell_type": "markdown",
   "metadata": {},
   "source": [
    "# Binomialkoeffizienten\n",
    "\n",
    "![binomialkoeffizienten](./images/binomialkoeffizienten.png)"
   ]
  },
  {
   "cell_type": "code",
   "execution_count": 26,
   "metadata": {},
   "outputs": [],
   "source": [
    "def binomial_coefficient(n, k):\n",
    "    if k > n or k < 0:\n",
    "        return 0\n",
    "    return math.comb(n, k)"
   ]
  },
  {
   "cell_type": "markdown",
   "metadata": {},
   "source": [
    "##  N über K"
   ]
  },
  {
   "cell_type": "code",
   "execution_count": 27,
   "metadata": {},
   "outputs": [
    {
     "name": "stdout",
     "output_type": "stream",
     "text": [
      "Die Anzahl der Möglichkeiten, 3 Objekte aus 5 zu ziehen, ist: 10\n"
     ]
    }
   ],
   "source": [
    "# Beispielwerte\n",
    "n = 5  # Gesamtanzahl der Objekte\n",
    "k = 3  # Anzahl der zu ziehenden Objekte\n",
    "\n",
    "ergebnis = binomial_coefficient(n, k)\n",
    "print(f\"Die Anzahl der Möglichkeiten, {k} Objekte aus {n} zu ziehen, ist: {ergebnis}\")"
   ]
  },
  {
   "cell_type": "markdown",
   "metadata": {},
   "source": [
    "![binomische_lehrsatz.png](./images/binomische_lehrsatz.png)\n"
   ]
  },
  {
   "cell_type": "code",
   "execution_count": 28,
   "metadata": {},
   "outputs": [],
   "source": [
    "def binomial_expansion(a, b, n):\n",
    "    expansion = []\n",
    "    for k in range(n + 1):\n",
    "        coefficient = math.comb(n, k)\n",
    "        term = f\"{coefficient}*{a}^{n-k}*{b}^{k}\"\n",
    "        expansion.append(term)\n",
    "    return \" + \".join(expansion)"
   ]
  },
  {
   "cell_type": "code",
   "execution_count": 29,
   "metadata": {},
   "outputs": [
    {
     "name": "stdout",
     "output_type": "stream",
     "text": [
      "Die Expansion von (x + y)^3 ist: 1*x^3*y^0 + 3*x^2*y^1 + 3*x^1*y^2 + 1*x^0*y^3\n"
     ]
    }
   ],
   "source": [
    "# Beispielwerte\n",
    "a = 'x'  # erster Term\n",
    "b = 'y'  # zweiter Term\n",
    "n = 3    # exponent\n",
    "\n",
    "ergebnis = binomial_expansion(a, b, n)\n",
    "print(f\"Die Expansion von ({a} + {b})^{n} ist: {ergebnis}\")"
   ]
  },
  {
   "cell_type": "markdown",
   "metadata": {},
   "source": [
    "## Theorie\n",
    "\n",
    "Der binomische Lehrsatz ermöglicht es, Potenzen von Binomen der Form (a+b)n(a+b)n zu entwickeln. \n",
    "Er besagt:\n",
    "(a+b)^n=∑k=0n (nk) a^n−k b^k (siehe oben)\n",
    "\n",
    "Erkenntnisse durch den binomischen Lehrsatz:\n",
    "\n",
    "- Entwicklung von Potenzen: Vereinfacht die Berechnung von Potenzen eines Binoms ohne wiederholtes Ausmultiplizieren.\n",
    "- Binomialkoeffizienten (nk): Diese Koeffizienten geben die Anzahl der Möglichkeiten an, k Elemente aus einer Menge von nn auszuwählen (Kombinationen).\n",
    "- Verbindung zur Kombinatorik: Der Lehrsatz ist grundlegend in der Kombinatorik und hilft bei der Lösung- von Zählproblemen.\n",
    "- Pascal'sches Dreieck: Die Binomialkoeffizienten entsprechen den Zahlen im Pascal'schen Dreieck, was- die Berechnung erleichtert.\n",
    "- Anwendungen in der Algebra und Analysis: Hilft bei der Lösung von Gleichungen und in der- Reihenentwicklung von Funktionen.\n",
    "- Generalisierung: Der binomische Lehrsatz kann auf reelle und komplexe Exponenten erweitert werden (allgemeiner binomischer Lehrsatz)."
   ]
  },
  {
   "cell_type": "markdown",
   "metadata": {},
   "source": [
    "# Tunierplan - Rundenturnier - Blockplan - BIBD\n",
    "![bibd](images/bibd.png)\n",
    "  \n",
    "\n",
    "Parameter:\n",
    "- v: Anzahl der Varietäten\n",
    "- k: Länge eines Blocks\n",
    "- λ (lambda): sagt, wie oft jede 2-elementige Teilmenge der Varietäten {1, 2, …, v} im Blockplan vorkommt\n",
    "- b: Anzahl der Blöcke (b = v über 2)\n",
    "- r: Wie oft jede Varietät in einem Block vorkommt (r = v - 1)"
   ]
  },
  {
   "cell_type": "code",
   "execution_count": 30,
   "metadata": {},
   "outputs": [],
   "source": [
    "def Tunierplan(v):\n",
    "    pairings = []\n",
    "\n",
    "    for round in range(1, v):\n",
    "        round_pairings = []\n",
    "\n",
    "        for x in range(1, v):\n",
    "            for y in range(x + 1, v):\n",
    "\n",
    "                if (x + y) % (v - 1) == round % (v - 1):\n",
    "                    round_pairings.append((x, y))\n",
    "\n",
    "            if (x + x) % (v - 1) == round % (v - 1):\n",
    "                round_pairings.append((x, v))\n",
    "\n",
    "        pairings.append(round_pairings)\n",
    "    return pairings"
   ]
  },
  {
   "cell_type": "code",
   "execution_count": 31,
   "metadata": {},
   "outputs": [
    {
     "data": {
      "text/markdown": [
       "| Runde 1 | Runde 2 | Runde 3 | Runde 4 | Runde 5 | Runde 6 | Runde 7  |\n",
       "|----------|----------|----------|----------|----------|----------|----------|\n",
       "|(1, 7)|(1, 8)|(1, 2)|(1, 3)|(1, 4)|(1, 5)|(1, 6)|\n",
       "|(2, 6)|(2, 7)|(3, 7)|(2, 8)|(2, 3)|(2, 4)|(2, 5)|\n",
       "|(3, 5)|(3, 6)|(4, 6)|(4, 7)|(5, 7)|(3, 8)|(3, 4)|\n",
       "|(4, 8)|(4, 5)|(5, 8)|(5, 6)|(6, 8)|(6, 7)|(7, 8)|\n"
      ],
      "text/plain": [
       "<IPython.core.display.Markdown object>"
      ]
     },
     "metadata": {},
     "output_type": "display_data"
    }
   ],
   "source": [
    "v = teams = 8\n",
    "plan = Tunierplan(v)\n",
    "\n",
    "table_header = f\"|{'|'.join([f\" Runde {i} \" for i in range(1, len(plan)+ 1)])} |\\n\"\n",
    "table_sep = f\"|{'|'.join([\"----------\" for i in range(1, len(plan)+ 1)])}|\\n\"\n",
    "\n",
    "table_body = \"\"\n",
    "for row in range(len(plan[0])):\n",
    "    for col in range(len(plan)):\n",
    "        table_body += f\"|{plan[col][row]}\"\n",
    "    table_body += \"|\\n\"\n",
    "\n",
    "display(Markdown(table_header + table_sep + table_body))"
   ]
  },
  {
   "cell_type": "markdown",
   "metadata": {},
   "source": [
    "# Prinzip der Inklusion und Exklusion – Siebmethode"
   ]
  },
  {
   "cell_type": "code",
   "execution_count": 32,
   "metadata": {},
   "outputs": [],
   "source": [
    "def calculate_others(total, counts):\n",
    "\n",
    "    keys = [key for key in counts.keys() if len(key) == 1]\n",
    "    characteristics = len(counts)\n",
    "    with_characteristic = 0\n",
    "\n",
    "    display(Math(f\"|\\\\Omega| = 73 \\\\; |r| = {len(keys)}\"))\n",
    "    latex = \"|\\\\Omega|\"\n",
    "\n",
    "    for r in range(1, characteristics + 1):\n",
    "        latex += \"+\" if r % 2 == 0 else \"-\"\n",
    "        latex += \"(\"        \n",
    "        for combo in combinations(range(characteristics), r):\n",
    "            count_key = ''.join(chr(65 + i) for i in combo)\n",
    "\n",
    "            if count_key in counts:\n",
    "                latex += f\"|{count_key}| + \" if len(count_key) == 1 else f\"|{' \\\\cap '.join(count_key)}| + \"\n",
    "                with_characteristic += (-1) ** (r + 1) * counts[count_key]\n",
    "\n",
    "        latex = latex[:-2] + \")\"\n",
    "    \n",
    "    while '))' in latex:\n",
    "        latex = latex.replace('))', ')')\n",
    "    latex += f\" = {total - with_characteristic}\"\n",
    "    display(Math(latex))\n",
    "    \n",
    "    return total - with_characteristic"
   ]
  },
  {
   "cell_type": "code",
   "execution_count": 33,
   "metadata": {},
   "outputs": [
    {
     "data": {
      "text/latex": [
       "$\\displaystyle |\\Omega| = 73 \\; |r| = 3$"
      ],
      "text/plain": [
       "<IPython.core.display.Math object>"
      ]
     },
     "metadata": {},
     "output_type": "display_data"
    },
    {
     "data": {
      "text/latex": [
       "$\\displaystyle |\\Omega|-(|A| + |B| + |C| )+(|A \\cap B| + |A \\cap C| + |B \\cap C| )-(|A \\cap B \\cap C| ) = 4$"
      ],
      "text/plain": [
       "<IPython.core.display.Math object>"
      ]
     },
     "metadata": {},
     "output_type": "display_data"
    },
    {
     "name": "stdout",
     "output_type": "stream",
     "text": [
      "Andere: 4\n"
     ]
    }
   ],
   "source": [
    "total = 55 # 55 Athleten\n",
    "counts = {\n",
    "    'A': 35, # Fußball\n",
    "    'B': 27, # Leichtathletik\n",
    "    'C': 12, # Judo\n",
    "    # 'D': 1, # Handball\n",
    "    'AB': 13, # Fußball, Leichtathletik\n",
    "    'AC': 7, # Fußball, Judo\n",
    "    'BC': 5, # Leichtathletik, Judo\n",
    "    'ABC': 2, # Fußball, Leichtathletik, Judo\n",
    "    # 'ABCD': 1 # Fußball, Leichtathletik, Judo, Handball\n",
    "}\n",
    "\n",
    "print(f\"Andere: {calculate_others(total, counts)}\")"
   ]
  },
  {
   "cell_type": "code",
   "execution_count": 34,
   "metadata": {},
   "outputs": [
    {
     "data": {
      "text/latex": [
       "$\\displaystyle |\\Omega| = 73 \\; |r| = 3$"
      ],
      "text/plain": [
       "<IPython.core.display.Math object>"
      ]
     },
     "metadata": {},
     "output_type": "display_data"
    },
    {
     "data": {
      "text/latex": [
       "$\\displaystyle |\\Omega|-(|A| + |B| + |C| )+(|A \\cap B| + |A \\cap C| + |B \\cap C| )-(|A \\cap B \\cap C| ) = 11$"
      ],
      "text/plain": [
       "<IPython.core.display.Math object>"
      ]
     },
     "metadata": {},
     "output_type": "display_data"
    },
    {
     "name": "stdout",
     "output_type": "stream",
     "text": [
      "Andere: 11\n"
     ]
    }
   ],
   "source": [
    "total = 73\n",
    "counts = {\n",
    "    'A': 20,    \n",
    "    'B': 25,    \n",
    "    'C': 52,    \n",
    "    'AB': 7,     \n",
    "    'AC': 12,    \n",
    "    'BC': 17,    \n",
    "    'ABC': 1\n",
    "}\n",
    "\n",
    "print(f\"Andere: {calculate_others(total, counts)}\")"
   ]
  },
  {
   "cell_type": "markdown",
   "metadata": {},
   "source": [
    "# RSA - Verschlüsselung"
   ]
  },
  {
   "cell_type": "markdown",
   "metadata": {},
   "source": [
    "Der Satz von Fermat und der Satz von Euler sind fundamentale Ergebnisse der Zahlentheorie, die wichtige Eigenschaften der modularen Arithmetik beschreiben.  \n",
    "\n",
    "**Kleiner Satz von Fermat**:  \n",
    "Sei p eine Primzahl und a eine ganze Zahl, die nicht durch p teilbar ist (d.h. a und p sind teilerfremd).  \n",
    "Dann gilt:  \n",
    "a^(p−1) ≡ 1 mod p  \n",
    "\n",
    "Das bedeutet, dass a^(p−1) beim Teilen durch p den Rest 1 ergibt.  \n",
    "\n",
    "**Beispiel**:  \n",
    "Für p=5 und a=2:  \n",
    "2^(5−1)=2^4=16≡1 mod 5  \n",
    "Da 16÷5=3 mit Rest 1.\n",
    "\n",
    "**Satz von Euler**:  \n",
    "Sei n eine positive ganze Zahl und a eine ganze Zahl, die teilerfremd zu n ist.  \n",
    "Dann gilt:  \n",
    "a^(φ(n)) ≡ 1 mod n\n",
    "\n",
    "wobei φ(n) die Eulersche Phi-Funktion ist. Die Phi-Funktion φ(n) gibt die Anzahl der positiven ganzen Zahlen kleiner oder gleich n an, die teilerfremd zu n sind.  \n",
    "\n",
    "**Beispiel**:  \n",
    "Für n=10 ist φ(10)=4 (die Zahlen 1, 3, 7, 9 sind teilerfremd zu 10).  \n",
    "Wenn a=3, das teilerfremd zu 10 ist:  \n",
    "3^(φ(10))=3^4=81≡ 1 mod 10\n",
    "\n",
    "Da 81÷10=8 mit Rest 1."
   ]
  },
  {
   "cell_type": "markdown",
   "metadata": {},
   "source": [
    "## Prime"
   ]
  },
  {
   "cell_type": "code",
   "execution_count": 35,
   "metadata": {},
   "outputs": [],
   "source": [
    "def is_prime(n):\n",
    "  # https://stackoverflow.com/questions/15285534/isprime-function-for-python-language\n",
    "  if n == 2 or n == 3: return True\n",
    "  if n < 2 or n%2 == 0: return False\n",
    "  if n < 9: return True\n",
    "  if n%3 == 0: return False\n",
    "  r = int(n**0.5)\n",
    "  # since all primes > 3 are of the form 6n ± 1\n",
    "  # start with f=5 (which is prime)\n",
    "  # and test f, f+2 for being prime\n",
    "  # then loop by 6. \n",
    "  f = 5\n",
    "  while f <= r:\n",
    "    # print('\\t',f)\n",
    "    if n % f == 0: return False\n",
    "    if n % (f+2) == 0: return False\n",
    "    f += 6\n",
    "  return True   "
   ]
  },
  {
   "cell_type": "code",
   "execution_count": 36,
   "metadata": {},
   "outputs": [],
   "source": [
    "def generate_prime_candidate(length):\n",
    "    p = 0\n",
    "    while not is_prime(p):\n",
    "        p = random.getrandbits(length)\n",
    "    return p"
   ]
  },
  {
   "cell_type": "code",
   "execution_count": 37,
   "metadata": {},
   "outputs": [],
   "source": [
    "def generate_keys(bit_length=8):\n",
    "    # Zwei zufällige Primzahlen wählen (für mehr Sicherheit größere Bitlängen verwenden)\n",
    "    p = generate_prime_candidate(bit_length)\n",
    "    q = generate_prime_candidate(bit_length)\n",
    "    while p == q:  # Sicherstellen, dass p und q unterschiedlich sind\n",
    "        q = generate_prime_candidate(bit_length)\n",
    "\n",
    "    n = p * q\n",
    "    phi = (p - 1) * (q - 1)\n",
    "\n",
    "    # Wählen Sie e, 1 < e < phi und e ist relativ prim zu phi\n",
    "    e = random.randrange(1, phi)\n",
    "    while ggT(e, phi, False) != 1:\n",
    "        e = random.randrange(1, phi)\n",
    "\n",
    "    # Berechnen des modularen Inversen von e\n",
    "    d = Inverses(e, phi)\n",
    "\n",
    "    # Öffentlichen und privaten Schlüssel zurückgeben\n",
    "    return (e, n), (d, n), p, q, phi"
   ]
  },
  {
   "cell_type": "markdown",
   "metadata": {},
   "source": [
    "## RSA"
   ]
  },
  {
   "cell_type": "code",
   "execution_count": 38,
   "metadata": {},
   "outputs": [
    {
     "name": "stdout",
     "output_type": "stream",
     "text": [
      "Öffentlicher Schlüssel: (1259, 4033)\n",
      "Privater Schlüssel: (1331, 4033)\n",
      "p: 109\n",
      "q: 37\n",
      "phi: 3888\n"
     ]
    }
   ],
   "source": [
    "bit_length = 8\n",
    "(e, n), (d, m), p, q, phi = generate_keys(bit_length)\n",
    "print(f\"Öffentlicher Schlüssel: ({e}, {n})\")\n",
    "print(f\"Privater Schlüssel: ({d}, {m})\")\n",
    "print(f\"p: {p}\")\n",
    "print(f\"q: {q}\")\n",
    "print(f\"phi: {phi}\")"
   ]
  },
  {
   "cell_type": "code",
   "execution_count": 39,
   "metadata": {},
   "outputs": [
    {
     "name": "stdout",
     "output_type": "stream",
     "text": [
      "p, q gültig: True\n",
      "e und phi sind teilerfremd: True\n",
      "c = 8^13 mod 143 = 138\n",
      "w_1 = 138^77 mod 143 = 8\n"
     ]
    }
   ],
   "source": [
    "# Änderbare Parameter\n",
    "# p, q, e, d, w\n",
    "\n",
    "p = 11 # Primzahl, groß\n",
    "q = 13 # Primzahl, groß\n",
    "m = p * q # Modulus, ist öffentlich, schwer zu faktorisieren\n",
    "print(f\"p, q gültig: {is_prime(p) and is_prime(q)}\")\n",
    "\n",
    "# e und phi müssen teilerfremd sein\n",
    "e = 13 # öffentlicher Schlüssel\n",
    "phi = euler_phi(m)\n",
    "print(f\"e und phi sind teilerfremd: {ggT(e, phi, False) == 1}\")\n",
    "\n",
    "d = 77 # privater Schlüssel\n",
    "w = 8 # Nachricht\n",
    "\n",
    "c = w ** e % m # Verschlüsselung\n",
    "w_1 = c ** d % m # Entschlüsselung\n",
    "\n",
    "print(f\"c = {w}^{e} mod {m} = {c}\")\n",
    "print(f\"w_1 = {c}^{d} mod {m} = {w_1}\")"
   ]
  },
  {
   "cell_type": "markdown",
   "metadata": {},
   "source": [
    "# Perfekte Zahlen\n",
    "\n",
    "Eine perfekte Zahl ist eine positive ganze Zahl n, die gleich der Summe ihrer positiven Teiler (außer sich selbst) ist. Zum Beispiel ist 6 eine perfekte Zahl, weil ihre Teiler 1, 2 und 3 sind und 1+2+3=6.  \n",
    "Um zu zeigen, dass n eine perfekte Zahl ist, musst du folgende Schritte durchführen:\n",
    "- Finde die positiven Teiler von n (außer nn selbst).\n",
    "- Berechne die Summe dieser Teiler.\n",
    "- Zeige, dass diese Summe gleich n ist.\n",
    "\n",
    "σ(n): Summe der positiven Teiler von n.  \n",
    "d(n): Anzahl der positiven Teiler von n."
   ]
  },
  {
   "cell_type": "code",
   "execution_count": 40,
   "metadata": {},
   "outputs": [],
   "source": [
    "def is_perfect_number(n):\n",
    "    if n <= 1:\n",
    "        return False\n",
    "    divisors = list(i for i in range(1, n) if n % i == 0)\n",
    "    divisors_sum = sum(divisors)\n",
    "    return (divisors_sum == n), divisors"
   ]
  },
  {
   "cell_type": "code",
   "execution_count": 41,
   "metadata": {},
   "outputs": [
    {
     "name": "stdout",
     "output_type": "stream",
     "text": [
      "6 ist eine perfekte Zahl. Teiler: [1, 2, 3], σ(6) = 6\n",
      "d(6) = 3\n"
     ]
    }
   ],
   "source": [
    "# Beispielwert\n",
    "n = 6  # Prüfe, ob 6 eine perfekte Zahl ist\n",
    "b, divisors = is_perfect_number(n)\n",
    "if b:\n",
    "    print(f\"{n} ist eine perfekte Zahl. Teiler: {divisors}, σ({n}) = {sum(divisors)}\")\n",
    "else:\n",
    "    print(f\"{n} ist keine perfekte Zahl. Teiler: {divisors}, Summe: {sum(divisors)}\")\n",
    "\n",
    "print(f\"d({n}) = {len(divisors)}\")"
   ]
  },
  {
   "cell_type": "markdown",
   "metadata": {},
   "source": [
    "# Berechnung der Determinante einer Matrix"
   ]
  },
  {
   "cell_type": "code",
   "execution_count": 42,
   "metadata": {},
   "outputs": [],
   "source": [
    "def determinant(matrix):\n",
    "    # Basisfall für 1x1-Matrix\n",
    "    if len(matrix) == 1:\n",
    "        return matrix[0][0], f\"{matrix[0][0]}\"\n",
    "    \n",
    "    # Basisfall für 2x2-Matrix\n",
    "    if len(matrix) == 2:\n",
    "        formel = f\"{matrix[0][0]} * {matrix[1][1]} - {matrix[0][1]} * {matrix[1][0]}\"\n",
    "        return matrix[0][0] * matrix[1][1] - matrix[0][1] * matrix[1][0], formel\n",
    "    \n",
    "    det = 0\n",
    "    formeln = []\n",
    "    for c in range(len(matrix)):\n",
    "        # Erzeugt eine Untermatrix durch Entfernen der ersten Zeile und der c-ten Spalte\n",
    "        submatrix = [row[:c] + row[c+1:] for row in matrix[1:]]\n",
    "        # Rekursive Berechnung der Determinante\n",
    "        d, sub_formel = determinant(submatrix)\n",
    "        det += ((-1) ** c) * matrix[0][c] * d\n",
    "\n",
    "        formel = f\"{\"+ \" if ((-1) ** c) == 1 else \"- \"} {matrix[0][c]} * ({sub_formel})\"\n",
    "        formeln.append(formel)\n",
    "    \n",
    "    return det, f\"{' '.join(formeln)}\"[2:]"
   ]
  },
  {
   "cell_type": "code",
   "execution_count": 43,
   "metadata": {},
   "outputs": [
    {
     "name": "stdout",
     "output_type": "stream",
     "text": [
      "Die Determinante der Matrix L ist: 0\n",
      "Die Formel für die Determinante lautet:  1 * ( 6 * (11 * 16 - 12 * 15) -  7 * (10 * 16 - 12 * 14) +  8 * (10 * 15 - 11 * 14)) -  2 * ( 5 * (11 * 16 - 12 * 15) -  7 * (9 * 16 - 12 * 13) +  8 * (9 * 15 - 11 * 13)) +  3 * ( 5 * (10 * 16 - 12 * 14) -  6 * (9 * 16 - 12 * 13) +  8 * (9 * 14 - 10 * 13)) -  4 * ( 5 * (10 * 15 - 11 * 14) -  6 * (9 * 15 - 11 * 13) +  7 * (9 * 14 - 10 * 13))\n"
     ]
    }
   ],
   "source": [
    "# Definition der Matrix L\n",
    "matrix = [\n",
    "    [1, 2, 3, 4],\n",
    "    [5, 6, 7, 8],\n",
    "    [9, 10, 11, 12],\n",
    "    [13, 14, 15, 16]\n",
    "]\n",
    "\n",
    "det, f = determinant(matrix)\n",
    "print(f\"Die Determinante der Matrix L ist: {det}\")\n",
    "print(f\"Die Formel für die Determinante lautet: {f}\")\n"
   ]
  },
  {
   "cell_type": "markdown",
   "metadata": {},
   "source": [
    "# Graphen\n",
    "\n",
    "Wie viele Kanten hat ein zusammenhängender Graph minimal und maximal?   \n",
    "(n ist node/vertex, E ist edge/kante)\n",
    "\n",
    "n-1 < E < n über 2\n",
    "\n",
    "Was ist ein planerer Graph?   \n",
    "Ein Graph wo jede Kante sich nicht schneidet."
   ]
  },
  {
   "cell_type": "markdown",
   "metadata": {},
   "source": [
    "# Dijkstra-Algorithmus"
   ]
  },
  {
   "cell_type": "code",
   "execution_count": 44,
   "metadata": {},
   "outputs": [],
   "source": [
    "def dijkstra(graph, start):\n",
    "    # Initialisiere die Distanzen mit Unendlichkeit und setze die Startdistanz auf 0\n",
    "    distances = {vertex: float('infinity') for vertex in graph}\n",
    "    distances[start] = 0\n",
    "\n",
    "    predecessors = {vertex: None for vertex in graph}\n",
    "\n",
    "    # Verwende einen Vorrangwarteschlange für die zu verarbeitenden Knoten\n",
    "    priority_queue = [(0, start)]\n",
    "    \n",
    "    # Solange die Warteschlange nicht leer ist\n",
    "    while priority_queue:\n",
    "        # Wähle den Knoten mit der kleinsten Distanz\n",
    "        current_distance, current_vertex = heapq.heappop(priority_queue)\n",
    "\n",
    "        # Wenn die aktuelle Distanz größer ist als die bekannte, überspringe diesen Knoten\n",
    "        if current_distance > distances[current_vertex]:\n",
    "            continue\n",
    "\n",
    "        # Überprüfe die Nachbarn des aktuellen Knotens\n",
    "        for neighbor, weight in graph[current_vertex].items():\n",
    "            distance = current_distance + weight\n",
    "\n",
    "            # Wenn ein kürzerer Pfad gefunden wird, aktualisiere die Distanz und füge zur Warteschlange hinzu\n",
    "            if distance < distances[neighbor]:\n",
    "                distances[neighbor] = distance\n",
    "                predecessors[neighbor] = current_vertex\n",
    "                heapq.heappush(priority_queue, (distance, neighbor))\n",
    "\n",
    "    # Konstruiere die Pfade von Start zu allen anderen Knoten\n",
    "    paths = {}\n",
    "    for vertex in graph:\n",
    "        path = []\n",
    "        step = vertex\n",
    "        while step is not None:\n",
    "            path.insert(0, step)\n",
    "            step = predecessors[step]\n",
    "        if path[0] == start:  # Prüfe, ob ein gültiger Pfad existiert\n",
    "            paths[vertex] = path\n",
    "\n",
    "    return distances, paths"
   ]
  },
  {
   "cell_type": "code",
   "execution_count": 45,
   "metadata": {},
   "outputs": [],
   "source": [
    "def draw_graph(graph):\n",
    "    G = nx.Graph()\n",
    "\n",
    "    # Füge Kanten mit Gewichten hinzu\n",
    "    for node, edges in graph.items():\n",
    "        for neighbor, weight in edges.items():\n",
    "            G.add_edge(node, neighbor, weight=weight)\n",
    "    \n",
    "    # Zeichne den Graphen\n",
    "    pos = nx.spring_layout(G)  # Positionierung der Knoten\n",
    "    nx.draw(G, pos, with_labels=True, node_color='lightblue', node_size=2000, font_size=10, font_weight='bold')\n",
    "    labels = nx.get_edge_attributes(G, 'weight')\n",
    "    nx.draw_networkx_edge_labels(G, pos, edge_labels=labels)\n",
    "    \n",
    "    # Zeige den Graphen an\n",
    "    plt.title('Graphische Darstellung des Graphen')\n",
    "    plt.show()"
   ]
  },
  {
   "cell_type": "code",
   "execution_count": 46,
   "metadata": {},
   "outputs": [
    {
     "name": "stdout",
     "output_type": "stream",
     "text": [
      "{'A': 0, 'B': 1, 'C': 3, 'D': 4}\n",
      "Kürzeste Pfade:\n",
      "A: A\n",
      "B: A -> B\n",
      "C: A -> B -> C\n",
      "D: A -> B -> C -> D\n"
     ]
    },
    {
     "data": {
      "image/png": "[encoded data removed]",
      "text/plain": [
       "<Figure size 640x480 with 1 Axes>"
      ]
     },
     "metadata": {},
     "output_type": "display_data"
    }
   ],
   "source": [
    "graph = {\n",
    "    'A': {'B': 1, 'C': 4},\n",
    "    'B': {'A': 1, 'C': 2, 'D': 5},\n",
    "    'C': {'A': 4, 'B': 2, 'D': 1},\n",
    "    'D': {'B': 5, 'C': 1}\n",
    "}\n",
    "\n",
    "# Finde den kürzesten Pfad von Knoten 'A'\n",
    "distances, paths = dijkstra(graph, 'A')\n",
    "print(distances)\n",
    "print(\"Kürzeste Pfade:\")\n",
    "for destination, path in paths.items():\n",
    "    print(f\"{destination}: {' -> '.join(path)}\")\n",
    "draw_graph(graph)"
   ]
  },
  {
   "cell_type": "markdown",
   "metadata": {},
   "source": [
    "# Max-Flow"
   ]
  },
  {
   "cell_type": "code",
   "execution_count": 47,
   "metadata": {},
   "outputs": [],
   "source": [
    "def bfs(graph, source, sink, parent):\n",
    "    visited = set()\n",
    "    queue = [source]\n",
    "    visited.add(source)\n",
    "\n",
    "    while queue:\n",
    "        u = queue.pop(0)\n",
    "\n",
    "        for v, capacity in graph[u].items():\n",
    "            if v not in visited and capacity > 0:\n",
    "                queue.append(v)\n",
    "                visited.add(v)\n",
    "                parent[v] = u\n",
    "\n",
    "                if v == sink:\n",
    "                    return True\n",
    "    return False\n",
    "\n",
    "def dfs(graph, source, visited):\n",
    "    visited.add(source)\n",
    "    for v, capacity in graph[source].items():\n",
    "        if v not in visited and capacity > 0:\n",
    "            dfs(graph, v, visited)\n",
    "\n",
    "def ford_fulkerson(graph, source, sink):\n",
    "    parent = {}\n",
    "    max_flow = 0\n",
    "\n",
    "    # Restgraph initialisieren\n",
    "    residual_graph = defaultdict(dict)\n",
    "    flow_graph = defaultdict(dict)\n",
    "    for u in graph:\n",
    "        for v in graph[u]:\n",
    "            residual_graph[u][v] = graph[u][v]\n",
    "            residual_graph[v][u] = 0\n",
    "            flow_graph[u][v] = 0\n",
    "\n",
    "    while bfs(residual_graph, source, sink, parent):\n",
    "        path_flow = float('Inf')\n",
    "        s = sink\n",
    "        while s != source:\n",
    "            path_flow = min(path_flow, residual_graph[parent[s]][s])\n",
    "            s = parent[s]\n",
    "\n",
    "        v = sink\n",
    "        while v != source:\n",
    "            u = parent[v]\n",
    "            residual_graph[u][v] -= path_flow\n",
    "            residual_graph[v][u] += path_flow\n",
    "            flow_graph[u][v] += path_flow\n",
    "            v = parent[v]\n",
    "\n",
    "        max_flow += path_flow\n",
    "\n",
    "    # DFS, um erreichbare Knoten im Restgraphen zu finden\n",
    "    visited = set()\n",
    "    dfs(residual_graph, source, visited)\n",
    "\n",
    "    # Bestimmung des minimalen Schnitts\n",
    "    min_cut = []\n",
    "    for u in graph:\n",
    "        for v in graph[u]:\n",
    "            if u in visited and v not in visited:\n",
    "                min_cut.append((u, v))\n",
    "\n",
    "    return max_flow, flow_graph, min_cut"
   ]
  },
  {
   "cell_type": "code",
   "execution_count": 48,
   "metadata": {},
   "outputs": [
    {
     "name": "stdout",
     "output_type": "stream",
     "text": [
      "Der maximale Fluss ist 7\n",
      "Der minimale Schnitt ist [('g', 'c'), ('l', 't')] = 7\n"
     ]
    },
    {
     "data": {
      "text/latex": [
       "$\\displaystyle h_t =\\{ ct,lt \\} = 13$"
      ],
      "text/plain": [
       "<IPython.core.display.Math object>"
      ]
     },
     "metadata": {},
     "output_type": "display_data"
    },
    {
     "data": {
      "text/latex": [
       "$\\displaystyle E^+(S) = \\{ gc,lt \\} = 7$"
      ],
      "text/plain": [
       "<IPython.core.display.Math object>"
      ]
     },
     "metadata": {},
     "output_type": "display_data"
    },
    {
     "data": {
      "text/latex": [
       "$\\displaystyle 7 = h_t x \\leq c(E^+(S)) = 7$"
      ],
      "text/plain": [
       "<IPython.core.display.Math object>"
      ]
     },
     "metadata": {},
     "output_type": "display_data"
    }
   ],
   "source": [
    "# graph = {\n",
    "#     's': {'a': 4, 'b': 5},\n",
    "#     'a': {'b': 3, 'c': 5},\n",
    "#     'b': {'c': 4, 'd': 6},\n",
    "#     'c': {'t': 6},\n",
    "#     'd': {'t': 2},\n",
    "#     't': {}\n",
    "# }\n",
    "\n",
    "graph = {\n",
    "    's': {'a': 9, 'k': 4},\n",
    "\n",
    "    'a': {'b': 3, 'f': 6},\n",
    "    'k': {'e': 5, 'f': 1},\n",
    "\n",
    "    'f': {'b': 7, 'e': 3},\n",
    "\n",
    "    'b': {'g': 3},\n",
    "    'e': {'b': 1, 'g': 5},\n",
    "\n",
    "    'g': {'c': 2, 'l': 7},\n",
    "\n",
    "    'c': {'t': 8, 'b': 5},\n",
    "    'l': {'e': 3, 't': 5},\n",
    "\n",
    "}\n",
    "\n",
    "source = 's'\n",
    "sink = 't'\n",
    "\n",
    "# Gesucht ist ein maximaler Fluss x und ein minimaler Schnitt E(S).\n",
    "max_flow, flow_graph, min_cut = ford_fulkerson(graph, source, sink)\n",
    "print(f\"Der maximale Fluss ist {max_flow}\")\n",
    "mc = sum([graph[u][v] for u, v in min_cut])\n",
    "print(f\"Der minimale Schnitt ist {min_cut} = {mc}\")\n",
    "\n",
    "ht = [(u, sink) for u, v in graph.items() if v.get(sink)]\n",
    "display(Math(f\"h_{sink} =\\\\{{ { ','.join(f'{x[0]}{x[1]}' for x in ht)} \\\\}} = {sum([graph[u][v] for u, v in ht])}\"))\n",
    "\n",
    "display(Math(f\"E^+(S) = \\\\{{ {','.join(f'{x[0]}{x[1]}' for x in min_cut)} \\\\}} = {mc}\"))\n",
    "display(Math(f\"{max_flow} = h_{sink} x \\\\leq c(E^+(S)) = {mc}\"))"
   ]
  },
  {
   "cell_type": "code",
   "execution_count": 49,
   "metadata": {},
   "outputs": [],
   "source": [
    "def draw_flow_graph(graph, flow_graph, min_cut):\n",
    "    G = nx.DiGraph()\n",
    "\n",
    "    for u in graph:\n",
    "        for v, capacity in graph[u].items():\n",
    "            flow = flow_graph[u][v]\n",
    "            if capacity > 0:\n",
    "                G.add_edge(u, v, capacity=capacity, flow=flow)\n",
    "\n",
    "    pos = nx.spring_layout(G, k=15, iterations=5000, scale=2)\n",
    "    edge_labels = {(u, v): f\"{data['flow']}/{data['capacity']}\" for u, v, data in G.edges(data=True)}\n",
    "\n",
    "    nx.draw(G, pos, with_labels=True, node_color='lightblue', node_size=2000, font_size=10, font_weight='bold')\n",
    "    nx.draw_networkx_edge_labels(G, pos, edge_labels=edge_labels)\n",
    "    nx.draw_networkx_edges(G, pos, edgelist=G.edges(), arrowstyle='-|>', arrowsize=20)\n",
    "\n",
    "    # Zeichne den minimalen Schnitt in einer anderen Farbe\n",
    "    nx.draw_networkx_edges(G, pos, edgelist=min_cut, edge_color='red', width=2, style='dashed')\n",
    "    plt.title('Visualisierung des Netzwerkflusses und des minimalen Schnitts')\n",
    "    plt.show()"
   ]
  },
  {
   "cell_type": "code",
   "execution_count": 50,
   "metadata": {},
   "outputs": [
    {
     "data": {
      "image/png": "[encoded data removed]",
      "text/plain": [
       "<Figure size 640x480 with 1 Axes>"
      ]
     },
     "metadata": {},
     "output_type": "display_data"
    }
   ],
   "source": [
    "draw_flow_graph(graph, flow_graph, min_cut)"
   ]
  },
  {
   "cell_type": "markdown",
   "metadata": {},
   "source": [
    "# Hamilton Zyklus"
   ]
  },
  {
   "cell_type": "code",
   "execution_count": 51,
   "metadata": {},
   "outputs": [],
   "source": [
    "def valid_connection(\n",
    "    graph: list[list[int]], next_ver: int, curr_ind: int, path: list[int]\n",
    ") -> bool:\n",
    "     # 1. Validate that path exists between current and next vertices\n",
    "    if graph[path[curr_ind - 1]][next_ver] == 0:\n",
    "        return False\n",
    "\n",
    "    # 2. Validate that next vertex is not already in path\n",
    "    return not any(vertex == next_ver for vertex in path)\n",
    "\n",
    "def util_hamilton_cycle(graph: list[list[int]], path: list[int], curr_ind: int) -> bool:\n",
    "    # Base Case\n",
    "    if curr_ind == len(graph):\n",
    "        # return whether path exists between current and starting vertices\n",
    "        return graph[path[curr_ind - 1]][path[0]] == 1\n",
    "\n",
    "    # Recursive Step\n",
    "    for next_ver in range(len(graph)):\n",
    "        if valid_connection(graph, next_ver, curr_ind, path):\n",
    "            # Insert current vertex  into path as next transition\n",
    "            path[curr_ind] = next_ver\n",
    "            # Validate created path\n",
    "            if util_hamilton_cycle(graph, path, curr_ind + 1):\n",
    "                return True\n",
    "            # Backtrack\n",
    "            path[curr_ind] = -1\n",
    "    return False\n",
    "\n",
    "def hamilton_cycle(graph: list[list[int]], start_index: int = 0) -> list[int]:\n",
    "     # Initialize path with -1, indicating that we have not visited them yet\n",
    "    path = [-1] * (len(graph) + 1)\n",
    "    # initialize start and end of path with starting index\n",
    "    path[0] = path[-1] = start_index\n",
    "    # evaluate and if we find answer return path either return empty array\n",
    "    return path if util_hamilton_cycle(graph, path, 1) else []\n",
    "\n"
   ]
  },
  {
   "cell_type": "code",
   "execution_count": 52,
   "metadata": {},
   "outputs": [
    {
     "name": "stdout",
     "output_type": "stream",
     "text": [
      "[0, 1, 2, 4, 3, 0]\n"
     ]
    }
   ],
   "source": [
    "graph = [[0, 1, 0, 1, 0], # 0 -> 1, 0 -> 3\n",
    "        [1, 0, 1, 1, 1], # 1 -> 0, 1 -> 2, 1 -> 3, 1 -> 4\n",
    "        [0, 1, 0, 0, 1], # 2 -> 1, 2 -> 4\n",
    "        [1, 1, 0, 0, 1], # 3 -> 0, 3 -> 1, 3 -> 4\n",
    "        [0, 1, 1, 1, 0]] # 4 -> 1, 4 -> 2, 4 -> 3\n",
    "h = hamilton_cycle(graph) # [0, 1, 2, 4, 3, 0]\n",
    "print(h)\n",
    "\n",
    "# graph = [[0, 1, 0, 1, 0],\n",
    "#         [1, 0, 1, 1, 1],\n",
    "#         [0, 1, 0, 0, 1],\n",
    "#         [1, 1, 0, 0, 1],\n",
    "#         [0, 1, 1, 1, 0]]\n",
    "# h = hamilton_cycle(graph, 3) # [3, 0, 1, 2, 4, 3]\n",
    "# print(h)\n",
    "\n",
    "# graph = [[0, 1, 0, 1, 0],\n",
    "#         [1, 0, 1, 1, 1],\n",
    "#         [0, 1, 0, 0, 1],\n",
    "#         [1, 1, 0, 0, 0],\n",
    "#         [0, 1, 1, 0, 0]]\n",
    "# h = hamilton_cycle(graph,4) # no\n",
    "# print(h)\n"
   ]
  },
  {
   "cell_type": "code",
   "execution_count": 53,
   "metadata": {},
   "outputs": [],
   "source": [
    "def plot_hamilton(graph, cycle):\n",
    "    # Create a graph\n",
    "    G = nx.Graph()\n",
    "    \n",
    "    # Add edges based on the adjacency matrix\n",
    "    for i in range(len(graph)):\n",
    "        for j in range(len(graph[i])):\n",
    "            if graph[i][j] == 1:\n",
    "                G.add_edge(i, j)\n",
    "\n",
    "\n",
    "    # Draw the graph\n",
    "    pos = nx.spring_layout(G)\n",
    "    nx.draw(G, pos, with_labels=True, node_color='lightblue', edge_color='gray')\n",
    "\n",
    "    # Overlay the Hamiltonian cycle\n",
    "    for i in range(len(cycle) - 1):\n",
    "        nx.draw_networkx_edges(G, pos, edgelist=[(cycle[i], cycle[i + 1])], edge_color='red', width=2)\n",
    "\n",
    "    # Show the plot\n",
    "    plt.show()"
   ]
  },
  {
   "cell_type": "code",
   "execution_count": 54,
   "metadata": {},
   "outputs": [
    {
     "data": {
      "image/png": "[encoded data removed]",
      "text/plain": [
       "<Figure size 640x480 with 1 Axes>"
      ]
     },
     "metadata": {},
     "output_type": "display_data"
    }
   ],
   "source": [
    "plot_hamilton(graph, h)"
   ]
  },
  {
   "cell_type": "markdown",
   "metadata": {},
   "source": [
    "# Derangement Problem"
   ]
  },
  {
   "cell_type": "markdown",
   "metadata": {},
   "source": [
    "Problemstellung: n Personen geben ihre Hüte an einer Garderobe ab. Die Garderobenfrau vertauscht die Hüte zufällig.\n",
    "\n",
    "*Fragen*: \n",
    "- a) Auf wie viele Arten kann sie es schaffen, dass jede Person den falschen Hut erhält?  \n",
    "- b) Wie hoch ist die Wahrscheinlichkeit, dass jeder den falschen Hut bekommt?\n",
    "\n",
    "*Lösung*:\n",
    "Wir betrachten die Hüte und Personen als nummeriert von 1 bis n. Eine Zuordnung der Hüte zu den Personen ist eine Permutation π der Menge {1,2,...,n}, wobei π(i)=j bedeutet, dass Person i Hut j erhält.  \n",
    "Ein Fixpunkt ist ein i mit π(i)=i. Ein Derangement ist eine Permutation ohne Fixpunkte (keine Person erhält ihren eigenen Hut)."
   ]
  },
  {
   "cell_type": "markdown",
   "metadata": {},
   "source": [
    "a) Anzahl der Derangements:\n",
    "\n",
    "Die Anzahl der Derangements von n Objekten ist:  \n",
    "d_n=n!(1−(1/1!)+(1/2!)−(1/3!)+⋯+(−1)^n(1/n!))  \n",
    "Herleitung mittels Inklusions-Exklusions-Prinzip:\n",
    "\n",
    "Gesamtanzahl der Permutationen: n!  \n",
    "Anzahl der Permutationen mit mindestens einem Fixpunkt wird subtrahiert.  \n",
    "Für jedes k gilt:  \n",
    "Anzahl der Permutationen mit genau k Fixpunkten=(nk)(n−k)!  \n",
    "Somit ist:  \n",
    "d_n=n!−(n1)(n−1)!+(n2)(n−2)!−⋯+(−1)^n(nn)(n−n)!  \n",
    "\n",
    "Beispiele:  \n",
    "  \n",
    "Für n=3:  \n",
    "d_3=3!(1−(1/1!)+(1/2!)−(1/3!))=6(1−1+0.5−0.1667)=2  \n",
    "Es gibt also 2 Möglichkeiten, alle Hüte falsch zu verteilen.  "
   ]
  },
  {
   "cell_type": "markdown",
   "metadata": {},
   "source": [
    "b) Wahrscheinlichkeit, dass jeder den falschen Hut bekommt:\n",
    "P_n=d_n/n)=1/e (approximiert für großes n)\n",
    "\n",
    "Für große n nähert sich die Wahrscheinlichkeit P_n​ dem Wert 1e≈0,3679e1​≈0,3679.  \n",
    "Das bedeutet, dass unabhängig von der Anzahl der Personen die Chance, dass niemand seinen eigenen Hutbekommt, etwa 36,79% beträg"
   ]
  },
  {
   "cell_type": "code",
   "execution_count": 62,
   "metadata": {},
   "outputs": [],
   "source": [
    "getcontext().prec = 5000\n",
    "\n",
    "def derangement_number(n):\n",
    "    \"\"\"Berechnet die Anzahl der Derangements für n Elemente.\"\"\"\n",
    "    total = Decimal(0)\n",
    "    for k in range(n + 1):\n",
    "        total += Decimal((-1) ** k) / Decimal(math.factorial(k))\n",
    "    dn = Decimal(math.factorial(n)) * total\n",
    "    return dn\n",
    "\n",
    "def derangement_probability(n):\n",
    "    \"\"\"Berechnet die Wahrscheinlichkeit, dass jeder den falschen Hut bekommt.\"\"\"\n",
    "    return  derangement_number(n) / math.factorial(n)"
   ]
  },
  {
   "cell_type": "code",
   "execution_count": 68,
   "metadata": {},
   "outputs": [
    {
     "name": "stdout",
     "output_type": "stream",
     "text": [
      "Anzahl der Derangements für n = 1000: d_1000 = 148030000371669080363916614118966054237787246771683461554691846089888817122236071181318987391054867545959072618913067395256592673937835956772241168222528295595683596720980666220609427831904885242029599391814586746492963217722340317777195575260366010059010655172144738284878861758208131004735035818477569368786432061632016188446807685910940321832572996649981481772252325191040086154426554657538458444535765717871033946613771702350305625265004320388243386097879262683082846870385959781954488956389970392578944288660459295031234507478736716881824136783622584535138805982288145285315709292044924680549217929790115984545014441521755735726306195457199770572691754663617787391418043564291295463544232345623814234091075245481655240617768194600801613370454579550360990469214942505585371933295794820730182459765487139302567668926438713305035074950095908181875721870629028442704188817930628082595769711646309710902713389577813924985084195489687602046619502008960961979336971200011845832972766496820425232309014424160383352549432587175804599513224295387620793237492133106194854781675335264245443368406349778626577154153936165795176414280246708209684255021094823421966794931258601926237888502063061179908920389122437280096694180318756729540187743522955287693403344627192008193243150047926683116206789808737520329932175926689631039801333205271773068694119886681439408208634536616162125484968246433299086618972038726320143524530159155122816067209479359158975104676175689942972909538981915518610438058966813454552135810617643268326508884740007563057812557756872119827948177012498720002846584320083602883505675223930415710240943383142087697091237570482781352256162809593048997307636369071690373544475334727722226964401838105804104033698859046508072636221121284767256179261384695575800126777871914608799740333135169078085040301870738700721986026518324144597854534393940110548874771456733548819690014891150299883374569036144504075650284247154291122602262577738634502394468066637260601515590412677997656372138988479892629787344855469625993188902215341743976591335786134612426484416557074485085137922648888557127618980204107341206517456111787177656668620397156874752365541689736459115633909848251703534756902949331850082296669410306980175719986482188446333446450823956158029544268395051423740042819986368612454904255206373684842598857136228239326853906860111911390847498545181350875035398066868621959973870036473108206470890805125591766035651660263166256071859066523494404932873989243033885387310363168734739688132495065765084286985470381074859852651721482664917019227944750044815550686001.00000000000000000000000000000000000000000000000000000000000000000000000000000000000000000000000000000000000000000000000000000000000000000000000000000000000000000000000000000000000000000000000000000000000000000000000000000000000000000000000000000000000000000000000000000000000000000000000000000000000000000000000000000000000000000000000000000000000000000000000000000000000000000000000000000000000000000000000000000000000000000000000000000000000000000000000000000000000000000000000000000000000000000000000000000000000000000000000000000000000000000000000000000000000000000000000000000000000000000000000000000000000000000000000000000000000000000000000000000000000000000000000000000000000000000000000000000000000000000000000000000000000000000000000000000000000000000000000000000000000000000000000000000000000000000000000000000000000000000000000000000000000000000000000000000000000000000000000000000000000000000000000000000000000000000000000000000000000000000000000000000000000000000000000000000000000000000000000000000000000000000000000000000000000000000000000000000000000000000000000000000000000000000000000000000000000000000000000000000000000000000000000000000000000000000000000000000000000000000000000000000000000000000000000000000000000000000000000000000000000000000000000000000000000000000000000000000000000000000000000000000000000000000000000000000000000000000000000000000000000000000000000000000000000000000000000000000000000000000000000000000000000000000000000000000000000000000000000000000000000000000000000000000000000000000000000000000000000000000000000000000000000000000000000000000000000000000000000000000000000000000000000000000000000000000000000000000000000000000000000000000000000000000000000000000000000000000000000000000000000000000000000000000000000000000000000000000000000000000000000000000000000000000000000000000000000000000000000000000000000000000000000000000000000000000000000000000000000000000000000000000000000000000000000000000000000000000000000000000000000000000000000000000000000000000000000000000000000000000000000000000000000000000000000000000000000000000000000000000000000000000000000000000000000000000000000000000000000000000000000000000000000000000000000000000000000000000000000000000000000000000000000000000000000000000000000000000000000000000000000000000000000000000000000000000000000000000000000000000000000000000000000000000000000000000000000000000000000000000000000000000000000000000000000000000005\n",
      "Wahrscheinlichkeit P(1000) = 0.3679\n"
     ]
    }
   ],
   "source": [
    "n = 1000\n",
    "dn = derangement_number(n)\n",
    "pn = derangement_probability(n)\n",
    "\n",
    "print(f\"Anzahl der Derangements für n = {n}: d_{n} = {dn}\")\n",
    "print(f\"Wahrscheinlichkeit P({n}) = {pn:.4f}\")"
   ]
  },
  {
   "cell_type": "code",
   "execution_count": 71,
   "metadata": {},
   "outputs": [],
   "source": [
    "def plot_derangement(end_n):\n",
    "    ns = range(1, end_n)\n",
    "    probabilities = [derangement_probability(i) for i in ns]\n",
    "\n",
    "    plt.figure(figsize=(10, 6))\n",
    "    plt.plot(ns, probabilities, marker='o', label='P(n)')\n",
    "    plt.hlines(1/math.e, 1, end_n, colors='r', linestyles='dashed', label='1/e')\n",
    "    plt.title('Wahrscheinlichkeit, dass jeder den falschen Hut bekommt')\n",
    "    plt.xlabel('Anzahl der Personen n')\n",
    "    plt.ylabel('Wahrscheinlichkeit P(n)')\n",
    "    plt.legend()\n",
    "    plt.grid(True)\n",
    "    plt.show()"
   ]
  },
  {
   "cell_type": "code",
   "execution_count": 72,
   "metadata": {},
   "outputs": [
    {
     "data": {
      "image/png": "[encoded data removed]",
      "text/plain": [
       "<Figure size 1000x600 with 1 Axes>"
      ]
     },
     "metadata": {},
     "output_type": "display_data"
    }
   ],
   "source": [
    "plot_derangement(500)"
   ]
  }
 ],
 "metadata": {
  "kernelspec": {
   "display_name": "Python 3",
   "language": "python",
   "name": "python3"
  },
  "language_info": {
   "codemirror_mode": {
    "name": "ipython",
    "version": 3
   },
   "file_extension": ".py",
   "mimetype": "text/x-python",
   "name": "python",
   "nbconvert_exporter": "python",
   "pygments_lexer": "ipython3",
   "version": "3.12.4"
  }
 },
 "nbformat": 4,
 "nbformat_minor": 2
}
