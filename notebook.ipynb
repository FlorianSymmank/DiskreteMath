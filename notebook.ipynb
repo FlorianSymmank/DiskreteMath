{
 "cells": [
  {
   "cell_type": "code",
   "execution_count": 1,
   "metadata": {},
   "outputs": [],
   "source": [
    "# Setup\n",
    "from IPython.display import display, Markdown, Latex, Math\n",
    "from itertools import combinations"
   ]
  },
  {
   "cell_type": "markdown",
   "metadata": {},
   "source": [
    "# ISBN 10"
   ]
  },
  {
   "cell_type": "markdown",
   "metadata": {},
   "source": [
    "## Prüfziffer berechnen"
   ]
  },
  {
   "cell_type": "code",
   "execution_count": 2,
   "metadata": {},
   "outputs": [],
   "source": [
    "def calculateCheckDigit(isbn10):\n",
    "    sum = 0\n",
    "    for i in range(9):\n",
    "        sum += (i + 1) * int(isbn10[i])\n",
    "    checkDigit = sum % 11\n",
    "    if checkDigit == 10:\n",
    "        return 'X'\n",
    "    else:\n",
    "        return str(checkDigit)"
   ]
  },
  {
   "cell_type": "code",
   "execution_count": 3,
   "metadata": {},
   "outputs": [
    {
     "data": {
      "text/markdown": [
       "isbn10: 305501517-**7**"
      ],
      "text/plain": [
       "<IPython.core.display.Markdown object>"
      ]
     },
     "metadata": {},
     "output_type": "display_data"
    }
   ],
   "source": [
    "isbn = \"305501517\"\n",
    "display(Markdown(f\"isbn10: {isbn}-**{calculateCheckDigit(isbn)}**\"))"
   ]
  },
  {
   "cell_type": "markdown",
   "metadata": {},
   "source": [
    "## Zahlendreher erkennen\n",
    "![Zahlendreher](images/isbn10_zahlendreher.png)"
   ]
  },
  {
   "cell_type": "markdown",
   "metadata": {},
   "source": [
    "# GGT, GGT Rückwärts, Lemma von Bezout"
   ]
  },
  {
   "cell_type": "markdown",
   "metadata": {},
   "source": [
    "## GGT - Euklidischer Algorithmus"
   ]
  },
  {
   "cell_type": "code",
   "execution_count": 4,
   "metadata": {},
   "outputs": [],
   "source": [
    "def ggT(a, b):\n",
    "    while b != 0:\n",
    "        reminder = a % b\n",
    "        factor = a // b\n",
    "        print(f\"{a} = {factor} * {b} + {reminder}\")\n",
    "        a = b\n",
    "        b = reminder\n",
    "    return a"
   ]
  },
  {
   "cell_type": "code",
   "execution_count": 5,
   "metadata": {},
   "outputs": [
    {
     "name": "stdout",
     "output_type": "stream",
     "text": [
      "2406 = 3 * 654 + 444\n",
      "654 = 1 * 444 + 210\n",
      "444 = 2 * 210 + 24\n",
      "210 = 8 * 24 + 18\n",
      "24 = 1 * 18 + 6\n",
      "18 = 3 * 6 + 0\n"
     ]
    },
    {
     "data": {
      "text/markdown": [
       "ggt(2406, 654) = **6**"
      ],
      "text/plain": [
       "<IPython.core.display.Markdown object>"
      ]
     },
     "metadata": {},
     "output_type": "display_data"
    }
   ],
   "source": [
    "a = 2406\n",
    "b = 654\n",
    "display(Markdown(f\"ggt({a}, {b}) = **{ggT(a, b)}**\"))"
   ]
  },
  {
   "cell_type": "markdown",
   "metadata": {},
   "source": [
    "## Euklidischer Algorithmus rückwärts"
   ]
  },
  {
   "cell_type": "code",
   "execution_count": 6,
   "metadata": {},
   "outputs": [],
   "source": [
    "def ggTRueckwaerts(a, b):\n",
    "    if a == 0:\n",
    "        return b, 0, 1\n",
    "    gcd, x1, y1 = ggTRueckwaerts(b % a, a)\n",
    "    x = y1 - (b // a) * x1\n",
    "    y = x1\n",
    "    return gcd, x, y"
   ]
  },
  {
   "cell_type": "code",
   "execution_count": 7,
   "metadata": {},
   "outputs": [
    {
     "data": {
      "text/markdown": [
       "6 = **28** * 2406 + **-103** * 654"
      ],
      "text/plain": [
       "<IPython.core.display.Markdown object>"
      ]
     },
     "metadata": {},
     "output_type": "display_data"
    }
   ],
   "source": [
    "a = 2406\n",
    "b = 654\n",
    "gcd, x, y = ggTRueckwaerts(a, b)\n",
    "display(Markdown(f\"{gcd} = **{x}** * {a} + **{y}** * {b}\"))"
   ]
  },
  {
   "cell_type": "markdown",
   "metadata": {},
   "source": [
    "## Lemma von Bezout\n",
    "![Zahlendreher](images/lemma_bezout.png)"
   ]
  },
  {
   "cell_type": "code",
   "execution_count": 8,
   "metadata": {},
   "outputs": [
    {
     "name": "stdout",
     "output_type": "stream",
     "text": [
      "2406 * x - 654 * y = 0\n",
      "\n",
      "=== ggt ===\n",
      "2406 = 3 * 654 + 444\n",
      "654 = 1 * 444 + 210\n",
      "444 = 2 * 210 + 24\n",
      "210 = 8 * 24 + 18\n",
      "24 = 1 * 18 + 6\n",
      "18 = 3 * 6 + 0\n",
      "\n",
      "ggt(2406, 654) = 6\n",
      "=== ggt ===\n",
      "\n"
     ]
    },
    {
     "data": {
      "text/latex": [
       "$\\displaystyle x = \\begin{pmatrix} x \\\\ y \\end{pmatrix} = x_p + x_n t$"
      ],
      "text/plain": [
       "<IPython.core.display.Math object>"
      ]
     },
     "metadata": {},
     "output_type": "display_data"
    },
    {
     "name": "stdout",
     "output_type": "stream",
     "text": [
      "allgemeine Lösung:\n"
     ]
    },
    {
     "data": {
      "text/latex": [
       "$\\displaystyle 2406 \\cdot \\frac{654}{6} - 654 \\cdot \\frac{2406}{6} = 2406 \\cdot 109 - 654 \\cdot 401 = 0$"
      ],
      "text/plain": [
       "<IPython.core.display.Math object>"
      ]
     },
     "metadata": {},
     "output_type": "display_data"
    },
    {
     "data": {
      "text/latex": [
       "$\\displaystyle x_n = \\begin{pmatrix} 109 \\\\ 401 \\end{pmatrix}$"
      ],
      "text/plain": [
       "<IPython.core.display.Math object>"
      ]
     },
     "metadata": {},
     "output_type": "display_data"
    },
    {
     "name": "stdout",
     "output_type": "stream",
     "text": [
      "partikuläre Lösung:\n"
     ]
    },
    {
     "data": {
      "text/latex": [
       "$\\displaystyle x_p = \\begin{pmatrix} 28 \\\\ -103 \\end{pmatrix}$"
      ],
      "text/plain": [
       "<IPython.core.display.Math object>"
      ]
     },
     "metadata": {},
     "output_type": "display_data"
    },
    {
     "name": "stdout",
     "output_type": "stream",
     "text": [
      "alle Lösungen:\n"
     ]
    },
    {
     "data": {
      "text/latex": [
       "$\\displaystyle x = \\begin{pmatrix} x \\\\ y \\end{pmatrix} = \\begin{pmatrix} 28 \\\\ -103 \\end{pmatrix} + \\begin{pmatrix} 109 \\\\ 401 \\end{pmatrix}t$"
      ],
      "text/plain": [
       "<IPython.core.display.Math object>"
      ]
     },
     "metadata": {},
     "output_type": "display_data"
    },
    {
     "data": {
      "text/latex": [
       "$\\displaystyle 2406 (28 + 109t) - 654 (-103 + 401t) = 6$"
      ],
      "text/plain": [
       "<IPython.core.display.Math object>"
      ]
     },
     "metadata": {},
     "output_type": "display_data"
    }
   ],
   "source": [
    "a = 2406\n",
    "b = 654\n",
    "print(f\"{a} * x - {b} * y = 0\\n\")\n",
    "print(\"=== ggt ===\")\n",
    "gcd = ggT(a, b)\n",
    "print(f\"\\nggt({a}, {b}) = {gcd}\")\n",
    "print(\"=== ggt ===\\n\")\n",
    "\n",
    "# allgemeine Lösung xn = (x y)^t\n",
    "x = b // gcd\n",
    "y = a // gcd\n",
    "r = a * x - b * y\n",
    "\n",
    "\n",
    "display(Math(rf\"x = \\begin{{pmatrix}} x \\\\ y \\end{{pmatrix}} = x_p + x_n t\"))\n",
    "\n",
    "print(f\"allgemeine Lösung:\")\n",
    "\n",
    "display(Math(rf'2406 \\cdot \\frac{{{b}}}{{{gcd}}} - 654 \\cdot \\frac{{{a}}}{{{gcd}}} = {a} \\cdot {x} - {b} \\cdot {y} = {r}'))\n",
    "allgemeineLoesung = rf\"\\begin{{pmatrix}} {x} \\\\ {y} \\end{{pmatrix}}\"\n",
    "display(Math(rf'x_n = {allgemeineLoesung}'))\n",
    "\n",
    "# partikuläre Lösung p = (px py)^t\n",
    "_, px, py, = ggTRueckwaerts(a, b)\n",
    "partikiulaereLoesung = rf\"\\begin{{pmatrix}} {px} \\\\ {py} \\end{{pmatrix}}\"\n",
    "print(f\"partikuläre Lösung:\")\n",
    "display(Math(rf'x_p = {partikiulaereLoesung}'))\n",
    "\n",
    "print(\"alle Lösungen:\")\n",
    "display(Math(rf'x = \\begin{{pmatrix}} x \\\\ y \\end{{pmatrix}} = {partikiulaereLoesung} + {allgemeineLoesung}t'))\n",
    "display(Math(rf\"{a} ({px} + {x}t) - {b} ({py} + {y}t) = {gcd}\"))"
   ]
  },
  {
   "cell_type": "markdown",
   "metadata": {},
   "source": [
    "# Chinesischer Restsatz - simultane Kongruenzen"
   ]
  },
  {
   "cell_type": "markdown",
   "metadata": {},
   "source": [
    "# Primfaktorzerlegung"
   ]
  },
  {
   "cell_type": "code",
   "execution_count": 9,
   "metadata": {},
   "outputs": [],
   "source": [
    "def p_factorization(n):\n",
    "    i = 2\n",
    "    lst = []\n",
    "    while i * i <= n:\n",
    "        if n % i:\n",
    "            i += 1\n",
    "        else:\n",
    "            n //= i\n",
    "            lst.append(i)\n",
    "    if n > 1:\n",
    "        lst.append(n)\n",
    "    return lst"
   ]
  },
  {
   "cell_type": "code",
   "execution_count": 10,
   "metadata": {},
   "outputs": [
    {
     "data": {
      "text/plain": [
       "[2, 2, 5]"
      ]
     },
     "execution_count": 10,
     "metadata": {},
     "output_type": "execute_result"
    }
   ],
   "source": [
    "p_factorization(20)"
   ]
  },
  {
   "cell_type": "markdown",
   "metadata": {},
   "source": [
    "## Euler'sche Phi-Funktion\n",
    "![Euler'sche Phi-Funktion](images/euler_phi.png)"
   ]
  },
  {
   "cell_type": "code",
   "execution_count": 11,
   "metadata": {},
   "outputs": [],
   "source": [
    "def eulerPhi(n):\n",
    "    factors = p_factorization(n)\n",
    "    phi = n\n",
    "    for factor in factors:\n",
    "        phi *= 1 - 1/factor\n",
    "    return int(phi)"
   ]
  },
  {
   "cell_type": "code",
   "execution_count": 12,
   "metadata": {},
   "outputs": [
    {
     "data": {
      "text/plain": [
       "4"
      ]
     },
     "execution_count": 12,
     "metadata": {},
     "output_type": "execute_result"
    }
   ],
   "source": [
    "eulerPhi(20)"
   ]
  },
  {
   "cell_type": "markdown",
   "metadata": {},
   "source": [
    "# Tunierplan - Rundenturnier - Blockplan - BIBD\n",
    "![bibd](images/bibd.png)\n",
    "  \n",
    "\n",
    "Parameter:\n",
    "- v: Anzahl der Varietäten\n",
    "- k: Länge eines Blocks\n",
    "- λ (lambda): sagt, wie oft jede 2-elementige Teilmenge der Varietäten {1, 2, …, v} im Blockplan vorkommt\n",
    "- b: Anzahl der Blöcke (b = v über 2)\n",
    "- r: Wie oft jede Varietät in einem Block vorkommt (r = v - 1)"
   ]
  },
  {
   "cell_type": "code",
   "execution_count": 13,
   "metadata": {},
   "outputs": [],
   "source": [
    "def Tunierplan(v):\n",
    "    pairings = []\n",
    "\n",
    "    for round in range(1, v):\n",
    "        round_pairings = []\n",
    "\n",
    "        for x in range(1, v):\n",
    "            for y in range(x + 1, v):\n",
    "\n",
    "                if (x + y) % (v - 1) == round % (v - 1):\n",
    "                    round_pairings.append((x, y))\n",
    "\n",
    "            if (x + x) % (v - 1) == round % (v - 1):\n",
    "                round_pairings.append((x, v))\n",
    "\n",
    "        pairings.append(round_pairings)\n",
    "    return pairings"
   ]
  },
  {
   "cell_type": "code",
   "execution_count": 14,
   "metadata": {},
   "outputs": [
    {
     "data": {
      "text/markdown": [
       "| Runde 1 | Runde 2 | Runde 3 | Runde 4 | Runde 5 | Runde 6 | Runde 7  |\n",
       "|----------|----------|----------|----------|----------|----------|----------|\n",
       "|(1, 7)|(1, 8)|(1, 2)|(1, 3)|(1, 4)|(1, 5)|(1, 6)|\n",
       "|(2, 6)|(2, 7)|(3, 7)|(2, 8)|(2, 3)|(2, 4)|(2, 5)|\n",
       "|(3, 5)|(3, 6)|(4, 6)|(4, 7)|(5, 7)|(3, 8)|(3, 4)|\n",
       "|(4, 8)|(4, 5)|(5, 8)|(5, 6)|(6, 8)|(6, 7)|(7, 8)|\n"
      ],
      "text/plain": [
       "<IPython.core.display.Markdown object>"
      ]
     },
     "metadata": {},
     "output_type": "display_data"
    }
   ],
   "source": [
    "v = teams = 8\n",
    "plan = Tunierplan(v)\n",
    "\n",
    "table_header = f\"|{'|'.join([f\" Runde {i} \" for i in range(1, len(plan)+ 1)])} |\\n\"\n",
    "table_sep = f\"|{'|'.join([\"----------\" for i in range(1, len(plan)+ 1)])}|\\n\"\n",
    "\n",
    "table_body = \"\"\n",
    "for row in range(len(plan[0])):\n",
    "    for col in range(len(plan)):\n",
    "        table_body += f\"|{plan[col][row]}\"\n",
    "    table_body += \"|\\n\"\n",
    "\n",
    "display(Markdown(table_header + table_sep + table_body))"
   ]
  },
  {
   "cell_type": "markdown",
   "metadata": {},
   "source": [
    "# Prinzip der Inklusion und Exklusion – Siebmethode"
   ]
  },
  {
   "cell_type": "code",
   "execution_count": 15,
   "metadata": {},
   "outputs": [],
   "source": [
    "def calculate_others(total, counts):\n",
    "\n",
    "    keys = [key for key in counts.keys() if len(key) == 1]\n",
    "    characteristics = len(counts)\n",
    "    with_characteristic = 0\n",
    "\n",
    "    display(Math(f\"|\\\\Omega| = 73 \\\\; |r| = {len(keys)}\"))\n",
    "    latex = \"|\\\\Omega|\"\n",
    "\n",
    "    for r in range(1, characteristics + 1):\n",
    "        latex += \"+\" if r % 2 == 0 else \"-\"\n",
    "        latex += \"(\"        \n",
    "        for combo in combinations(range(characteristics), r):\n",
    "            count_key = ''.join(chr(65 + i) for i in combo)\n",
    "\n",
    "            if count_key in counts:\n",
    "                latex += f\"|{count_key}| + \" if len(count_key) == 1 else f\"|{' \\\\cap '.join(count_key)}| + \"\n",
    "                with_characteristic += (-1) ** (r + 1) * counts[count_key]\n",
    "\n",
    "        latex = latex[:-2] + \")\"\n",
    "    \n",
    "    while '))' in latex:\n",
    "        latex = latex.replace('))', ')')\n",
    "    latex += f\" = {total - with_characteristic}\"\n",
    "    display(Math(latex))\n",
    "    \n",
    "    return total - with_characteristic"
   ]
  },
  {
   "cell_type": "code",
   "execution_count": 26,
   "metadata": {},
   "outputs": [
    {
     "data": {
      "text/latex": [
       "$\\displaystyle |\\Omega| = 73 \\; |r| = 4$"
      ],
      "text/plain": [
       "<IPython.core.display.Math object>"
      ]
     },
     "metadata": {},
     "output_type": "display_data"
    },
    {
     "data": {
      "text/latex": [
       "$\\displaystyle |\\Omega|-(|A| + |B| + |C| + |D| )+(|A \\cap B| + |A \\cap C| + |B \\cap C| )-(|A \\cap B \\cap C| ) = 3$"
      ],
      "text/plain": [
       "<IPython.core.display.Math object>"
      ]
     },
     "metadata": {},
     "output_type": "display_data"
    },
    {
     "name": "stdout",
     "output_type": "stream",
     "text": [
      "Andere: 3\n"
     ]
    }
   ],
   "source": [
    "total = 55 # 55 Athleten\n",
    "counts = {\n",
    "    'A': 35, # Fußball\n",
    "    'B': 27, # Leichtathletik\n",
    "    'C': 12, # Judo\n",
    "    # 'D': 1, # Handball\n",
    "    'AB': 13, # Fußball, Leichtathletik\n",
    "    'AC': 7, # Fußball, Judo\n",
    "    'BC': 5, # Leichtathletik, Judo\n",
    "    'ABC': 2, # Fußball, Leichtathletik, Judo\n",
    "    # 'ABCD': 1 # Fußball, Leichtathletik, Judo, Handball\n",
    "}\n",
    "\n",
    "print(f\"Andere: {calculate_others(total, counts)}\")"
   ]
  },
  {
   "cell_type": "code",
   "execution_count": 19,
   "metadata": {},
   "outputs": [
    {
     "data": {
      "text/latex": [
       "$\\displaystyle |\\Omega| = 73 \\; |r| = 3$"
      ],
      "text/plain": [
       "<IPython.core.display.Math object>"
      ]
     },
     "metadata": {},
     "output_type": "display_data"
    },
    {
     "data": {
      "text/latex": [
       "$\\displaystyle |\\Omega|-(|A| + |B| + |C| )+(|A \\cap B| + |A \\cap C| + |B \\cap C| )-(|A \\cap B \\cap C| ) = 11$"
      ],
      "text/plain": [
       "<IPython.core.display.Math object>"
      ]
     },
     "metadata": {},
     "output_type": "display_data"
    },
    {
     "name": "stdout",
     "output_type": "stream",
     "text": [
      "Andere: 11\n"
     ]
    }
   ],
   "source": [
    "total = 73\n",
    "counts = {\n",
    "    'A': 20,    \n",
    "    'B': 25,    \n",
    "    'C': 52,    \n",
    "    'AB': 7,     \n",
    "    'AC': 12,    \n",
    "    'BC': 17,    \n",
    "    'ABC': 1\n",
    "}\n",
    "\n",
    "print(f\"Andere: {calculate_others(total, counts)}\")"
   ]
  }
 ],
 "metadata": {
  "kernelspec": {
   "display_name": "venv",
   "language": "python",
   "name": "python3"
  },
  "language_info": {
   "codemirror_mode": {
    "name": "ipython",
    "version": 3
   },
   "file_extension": ".py",
   "mimetype": "text/x-python",
   "name": "python",
   "nbconvert_exporter": "python",
   "pygments_lexer": "ipython3",
   "version": "3.12.5"
  }
 },
 "nbformat": 4,
 "nbformat_minor": 2
}
