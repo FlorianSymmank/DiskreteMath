{
 "cells": [
  {
   "cell_type": "markdown",
   "metadata": {},
   "source": [
    "# ISBN 10"
   ]
  },
  {
   "cell_type": "code",
   "execution_count": 21,
   "metadata": {},
   "outputs": [],
   "source": [
    "def calculateCheckDigit(isbn10):\n",
    "    sum = 0\n",
    "    for i in range(9):\n",
    "        sum += (i + 1) * int(isbn10[i])\n",
    "    checkDigit = sum % 11\n",
    "    if checkDigit == 10:\n",
    "        return 'X'\n",
    "    else:\n",
    "        return str(checkDigit)"
   ]
  },
  {
   "cell_type": "code",
   "execution_count": 22,
   "metadata": {},
   "outputs": [
    {
     "name": "stdout",
     "output_type": "stream",
     "text": [
      "isbn10: 3055015177\n",
      "isbn10: 047182819X\n",
      "isbn10: 4263792157\n"
     ]
    }
   ],
   "source": [
    "isbn = [\"305501517\", \"047182819\", \"426379215\"]\n",
    "\n",
    "for i in isbn:\n",
    "    print(f\"isbn10: {i}{calculateCheckDigit(i)}\")"
   ]
  }
 ],
 "metadata": {
  "kernelspec": {
   "display_name": "venv",
   "language": "python",
   "name": "python3"
  },
  "language_info": {
   "codemirror_mode": {
    "name": "ipython",
    "version": 3
   },
   "file_extension": ".py",
   "mimetype": "text/x-python",
   "name": "python",
   "nbconvert_exporter": "python",
   "pygments_lexer": "ipython3",
   "version": "3.12.5"
  }
 },
 "nbformat": 4,
 "nbformat_minor": 2
}
