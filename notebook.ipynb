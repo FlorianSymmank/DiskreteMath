{
 "cells": [
  {
   "cell_type": "code",
   "execution_count": 21,
   "metadata": {},
   "outputs": [],
   "source": [
    "# Setup\n",
    "from IPython.display import display, Markdown, Latex, Math\n",
    "from itertools import combinations\n",
    "import math"
   ]
  },
  {
   "cell_type": "markdown",
   "metadata": {},
   "source": [
    "# ISBN 10"
   ]
  },
  {
   "cell_type": "markdown",
   "metadata": {},
   "source": [
    "## Prüfziffer berechnen"
   ]
  },
  {
   "cell_type": "code",
   "execution_count": 2,
   "metadata": {},
   "outputs": [],
   "source": [
    "def calculateCheckDigit(isbn10):\n",
    "    sum = 0\n",
    "    for i in range(9):\n",
    "        sum += (i + 1) * int(isbn10[i])\n",
    "    checkDigit = sum % 11\n",
    "    if checkDigit == 10:\n",
    "        return 'X'\n",
    "    else:\n",
    "        return str(checkDigit)"
   ]
  },
  {
   "cell_type": "code",
   "execution_count": 3,
   "metadata": {},
   "outputs": [
    {
     "data": {
      "text/markdown": [
       "isbn10: 305501517-**7**"
      ],
      "text/plain": [
       "<IPython.core.display.Markdown object>"
      ]
     },
     "metadata": {},
     "output_type": "display_data"
    }
   ],
   "source": [
    "isbn = \"305501517\"\n",
    "display(Markdown(f\"isbn10: {isbn}-**{calculateCheckDigit(isbn)}**\"))"
   ]
  },
  {
   "cell_type": "markdown",
   "metadata": {},
   "source": [
    "## Zahlendreher erkennen\n",
    "![Zahlendreher](images/isbn10_zahlendreher.png)"
   ]
  },
  {
   "cell_type": "markdown",
   "metadata": {},
   "source": [
    "# Inverse/Nullteiler erkennen\n",
    "[a] ∈ ℤ_m besitzt genau dann ein Inverses [a]^–1, wenn ggT( a, m ) = 1."
   ]
  },
  {
   "cell_type": "code",
   "execution_count": 17,
   "metadata": {},
   "outputs": [],
   "source": [
    "def Inverses(a, m):\n",
    "    for i in range(m):\n",
    "        if (a * i) % m == 1:\n",
    "            return i\n",
    "    return None"
   ]
  },
  {
   "cell_type": "code",
   "execution_count": 18,
   "metadata": {},
   "outputs": [
    {
     "data": {
      "text/plain": [
       "2"
      ]
     },
     "execution_count": 18,
     "metadata": {},
     "output_type": "execute_result"
    }
   ],
   "source": [
    "Inverses(6, 11)\n",
    "# 6 * 2 = 12 % 11 = 1"
   ]
  },
  {
   "cell_type": "markdown",
   "metadata": {},
   "source": [
    "Andernfalls ist [a] ein Nullteiler, d.h. es gibt ein [b] ∈ ℤm mit [a⋅b] = [0]."
   ]
  },
  {
   "cell_type": "code",
   "execution_count": 11,
   "metadata": {},
   "outputs": [],
   "source": [
    "def NullTeilerErkennen(n):\n",
    "    nullteiler = []\n",
    "    for i in range(2, n):\n",
    "        if n % i == 0:\n",
    "            nullteiler.append(i)\n",
    "    return nullteiler"
   ]
  },
  {
   "cell_type": "code",
   "execution_count": 14,
   "metadata": {},
   "outputs": [
    {
     "data": {
      "text/plain": [
       "[2]"
      ]
     },
     "execution_count": 14,
     "metadata": {},
     "output_type": "execute_result"
    }
   ],
   "source": [
    "NullTeilerErkennen(4)\n",
    "# 2 * 2 = 4 % 4 = 0"
   ]
  },
  {
   "cell_type": "markdown",
   "metadata": {},
   "source": [
    "#  System voller Kongruenzen mit z===a mod k, mit z=const."
   ]
  },
  {
   "cell_type": "code",
   "execution_count": 19,
   "metadata": {},
   "outputs": [],
   "source": [
    "def solve_congruence(z, a, k):\n",
    "    if (z - a) % k == 0:\n",
    "        return True, (z - a) // k\n",
    "    else:\n",
    "        return False, None"
   ]
  },
  {
   "cell_type": "code",
   "execution_count": 20,
   "metadata": {},
   "outputs": [
    {
     "name": "stdout",
     "output_type": "stream",
     "text": [
      "10 ≡ 2 (mod 4) ist erfüllt. Vielfaches: 2\n"
     ]
    }
   ],
   "source": [
    "# Beispielwerte\n",
    "z = 10  # Konstante\n",
    "a = 2   # Wert der Kongruenz\n",
    "k = 4   # Modulus\n",
    "\n",
    "ergebnis, vielfaches = solve_congruence(z, a, k)\n",
    "if ergebnis:\n",
    "    print(f\"{z} ≡ {a} (mod {k}) ist erfüllt. Vielfaches: {vielfaches}\")\n",
    "else:\n",
    "    print(f\"{z} ≡ {a} (mod {k}) ist nicht erfüllt.\")"
   ]
  },
  {
   "cell_type": "markdown",
   "metadata": {},
   "source": [
    "# GGT, GGT Rückwärts, Lemma von Bezout"
   ]
  },
  {
   "cell_type": "markdown",
   "metadata": {},
   "source": [
    "## GGT - Euklidischer Algorithmus"
   ]
  },
  {
   "cell_type": "code",
   "execution_count": 4,
   "metadata": {},
   "outputs": [],
   "source": [
    "def ggT(a, b, verbose=True):\n",
    "    while b != 0:\n",
    "        reminder = a % b\n",
    "        factor = a // b\n",
    "        if verbose:\n",
    "            print(f\"{a} = {factor} * {b} + {reminder}\")\n",
    "        a = b\n",
    "        b = reminder\n",
    "    return a"
   ]
  },
  {
   "cell_type": "code",
   "execution_count": 5,
   "metadata": {},
   "outputs": [
    {
     "name": "stdout",
     "output_type": "stream",
     "text": [
      "2406 = 3 * 654 + 444\n",
      "654 = 1 * 444 + 210\n",
      "444 = 2 * 210 + 24\n",
      "210 = 8 * 24 + 18\n",
      "24 = 1 * 18 + 6\n",
      "18 = 3 * 6 + 0\n"
     ]
    },
    {
     "data": {
      "text/markdown": [
       "ggt(2406, 654) = **6**"
      ],
      "text/plain": [
       "<IPython.core.display.Markdown object>"
      ]
     },
     "metadata": {},
     "output_type": "display_data"
    }
   ],
   "source": [
    "a = 2406\n",
    "b = 654\n",
    "display(Markdown(f\"ggt({a}, {b}) = **{ggT(a, b)}**\"))"
   ]
  },
  {
   "cell_type": "markdown",
   "metadata": {},
   "source": [
    "## Euklidischer Algorithmus rückwärts"
   ]
  },
  {
   "cell_type": "code",
   "execution_count": 6,
   "metadata": {},
   "outputs": [],
   "source": [
    "def ggTRueckwaerts(a, b):\n",
    "    if a == 0:\n",
    "        return b, 0, 1\n",
    "    gcd, x1, y1 = ggTRueckwaerts(b % a, a)\n",
    "    x = y1 - (b // a) * x1\n",
    "    y = x1\n",
    "    return gcd, x, y"
   ]
  },
  {
   "cell_type": "code",
   "execution_count": 7,
   "metadata": {},
   "outputs": [
    {
     "data": {
      "text/markdown": [
       "6 = **28** * 2406 + **-103** * 654"
      ],
      "text/plain": [
       "<IPython.core.display.Markdown object>"
      ]
     },
     "metadata": {},
     "output_type": "display_data"
    }
   ],
   "source": [
    "a = 2406\n",
    "b = 654\n",
    "gcd, x, y = ggTRueckwaerts(a, b)\n",
    "display(Markdown(f\"{gcd} = **{x}** * {a} + **{y}** * {b}\"))"
   ]
  },
  {
   "cell_type": "markdown",
   "metadata": {},
   "source": [
    "## Lemma von Bezout\n",
    "![Zahlendreher](images/lemma_bezout.png)"
   ]
  },
  {
   "cell_type": "code",
   "execution_count": 8,
   "metadata": {},
   "outputs": [],
   "source": [
    "def lemma_bezout(a, b):\n",
    "    print(f\"{a} * x - {b} * y = 0\\n\")\n",
    "    print(\"=== ggt ===\")\n",
    "    gcd = ggT(a, b)\n",
    "    print(f\"\\nggt({a}, {b}) = {gcd}\")\n",
    "    print(\"=== ggt ===\\n\")\n",
    "\n",
    "    # allgemeine Lösung xn = (x y)^t\n",
    "    x = b // gcd\n",
    "    y = a // gcd\n",
    "    r = a * x - b * y\n",
    "\n",
    "\n",
    "    display(Math(rf\"x = \\begin{{pmatrix}} x \\\\ y \\end{{pmatrix}} = x_p + x_n t\"))\n",
    "\n",
    "    print(f\"allgemeine Lösung:\")\n",
    "\n",
    "    display(Math(rf'2406 \\cdot \\frac{{{b}}}{{{gcd}}} - 654 \\cdot \\frac{{{a}}}{{{gcd}}} = {a} \\cdot {x} - {b} \\cdot {y} = {r}'))\n",
    "    allgemeineLoesung = rf\"\\begin{{pmatrix}} {x} \\\\ {y} \\end{{pmatrix}}\"\n",
    "    display(Math(rf'x_n = {allgemeineLoesung}'))\n",
    "\n",
    "    # partikuläre Lösung p = (px py)^t\n",
    "    _, px, py, = ggTRueckwaerts(a, b)\n",
    "    partikiulaereLoesung = rf\"\\begin{{pmatrix}} {px} \\\\ {py} \\end{{pmatrix}}\"\n",
    "    print(f\"partikuläre Lösung:\")\n",
    "    display(Math(rf'x_p = {partikiulaereLoesung}'))\n",
    "\n",
    "    print(\"alle Lösungen:\")\n",
    "    display(Math(rf'x = \\begin{{pmatrix}} x \\\\ y \\end{{pmatrix}} = {partikiulaereLoesung} + {allgemeineLoesung}t'))\n",
    "    display(Math(rf\"{a} ({px} + {x}t) - {b} ({py} + {y}t) = {gcd}\"))"
   ]
  },
  {
   "cell_type": "code",
   "execution_count": 9,
   "metadata": {},
   "outputs": [
    {
     "name": "stdout",
     "output_type": "stream",
     "text": [
      "2406 * x - 654 * y = 0\n",
      "\n",
      "=== ggt ===\n",
      "2406 = 3 * 654 + 444\n",
      "654 = 1 * 444 + 210\n",
      "444 = 2 * 210 + 24\n",
      "210 = 8 * 24 + 18\n",
      "24 = 1 * 18 + 6\n",
      "18 = 3 * 6 + 0\n",
      "\n",
      "ggt(2406, 654) = 6\n",
      "=== ggt ===\n",
      "\n"
     ]
    },
    {
     "data": {
      "text/latex": [
       "$\\displaystyle x = \\begin{pmatrix} x \\\\ y \\end{pmatrix} = x_p + x_n t$"
      ],
      "text/plain": [
       "<IPython.core.display.Math object>"
      ]
     },
     "metadata": {},
     "output_type": "display_data"
    },
    {
     "name": "stdout",
     "output_type": "stream",
     "text": [
      "allgemeine Lösung:\n"
     ]
    },
    {
     "data": {
      "text/latex": [
       "$\\displaystyle 2406 \\cdot \\frac{654}{6} - 654 \\cdot \\frac{2406}{6} = 2406 \\cdot 109 - 654 \\cdot 401 = 0$"
      ],
      "text/plain": [
       "<IPython.core.display.Math object>"
      ]
     },
     "metadata": {},
     "output_type": "display_data"
    },
    {
     "data": {
      "text/latex": [
       "$\\displaystyle x_n = \\begin{pmatrix} 109 \\\\ 401 \\end{pmatrix}$"
      ],
      "text/plain": [
       "<IPython.core.display.Math object>"
      ]
     },
     "metadata": {},
     "output_type": "display_data"
    },
    {
     "name": "stdout",
     "output_type": "stream",
     "text": [
      "partikuläre Lösung:\n"
     ]
    },
    {
     "data": {
      "text/latex": [
       "$\\displaystyle x_p = \\begin{pmatrix} 28 \\\\ -103 \\end{pmatrix}$"
      ],
      "text/plain": [
       "<IPython.core.display.Math object>"
      ]
     },
     "metadata": {},
     "output_type": "display_data"
    },
    {
     "name": "stdout",
     "output_type": "stream",
     "text": [
      "alle Lösungen:\n"
     ]
    },
    {
     "data": {
      "text/latex": [
       "$\\displaystyle x = \\begin{pmatrix} x \\\\ y \\end{pmatrix} = \\begin{pmatrix} 28 \\\\ -103 \\end{pmatrix} + \\begin{pmatrix} 109 \\\\ 401 \\end{pmatrix}t$"
      ],
      "text/plain": [
       "<IPython.core.display.Math object>"
      ]
     },
     "metadata": {},
     "output_type": "display_data"
    },
    {
     "data": {
      "text/latex": [
       "$\\displaystyle 2406 (28 + 109t) - 654 (-103 + 401t) = 6$"
      ],
      "text/plain": [
       "<IPython.core.display.Math object>"
      ]
     },
     "metadata": {},
     "output_type": "display_data"
    }
   ],
   "source": [
    "a = 2406\n",
    "b = 654\n",
    "lemma_bezout(a, b)"
   ]
  },
  {
   "cell_type": "markdown",
   "metadata": {},
   "source": [
    "# Chinesischer Restsatz - simultane Kongruenzen"
   ]
  },
  {
   "cell_type": "code",
   "execution_count": 10,
   "metadata": {},
   "outputs": [],
   "source": [
    "def chinesischer_restklassensatz(congruences):\n",
    "    print(\"Chinesischer Restklassensatz:\")\n",
    "    # Extract divisors and remainders from tuples\n",
    "    num = [n for n, r in congruences]\n",
    "    rem = [r for n, r in congruences]\n",
    "\n",
    "    # Compute product of all numbers\n",
    "    prod = 1\n",
    "    for n in num:\n",
    "        prod *= n\n",
    "    print(f\"mod = {\" * \".join(map(str, num))} = {prod}\\n\")\n",
    "\n",
    "    terms = []\n",
    "    result = 0\n",
    "    # Apply CRT formula\n",
    "    for n, r in zip(num, rem):\n",
    "        pp = prod // n\n",
    "        gcd, inv, _ = ggTRueckwaerts(pp, n)\n",
    "        inv = inv % n  # Ensure the inverse is positive\n",
    "        term = r * pp * inv\n",
    "        result += term\n",
    "        terms.append(term)\n",
    "        print(f\"Calculating term for modulus {n}:\")\n",
    "        print(f\"pp = {pp}, inverse = {inv}\")\n",
    "        print(f\"Term = {r} * {pp} * {inv} = {term}\\n\")\n",
    "\n",
    "    result = result % prod\n",
    "    print(f\"Final result:\")\n",
    "    print(f\"z = {\" + \".join(map(str, terms))} = {result} mod {prod}\")\n",
    "    return result"
   ]
  },
  {
   "cell_type": "code",
   "execution_count": 11,
   "metadata": {},
   "outputs": [
    {
     "name": "stdout",
     "output_type": "stream",
     "text": [
      "Chinesischer Restklassensatz:\n",
      "mod = 5 * 7 = 35\n",
      "\n",
      "Calculating term for modulus 5:\n",
      "pp = 7, inverse = 3\n",
      "Term = 3 * 7 * 3 = 63\n",
      "\n",
      "Calculating term for modulus 7:\n",
      "pp = 5, inverse = 3\n",
      "Term = 4 * 5 * 3 = 60\n",
      "\n",
      "Final result:\n",
      "z = 63 + 60 = 18 mod 35\n"
     ]
    },
    {
     "data": {
      "text/plain": [
       "18"
      ]
     },
     "execution_count": 11,
     "metadata": {},
     "output_type": "execute_result"
    }
   ],
   "source": [
    "# z = 3 (mod 5)\n",
    "# z = 4 (mod 7)\n",
    "# z = 5x + 3 = 7y + 4\n",
    "congruences = [(5, 3), # mod 5, rest 3\n",
    "               (7, 4) # mod 7, rest 4\n",
    "               ]\n",
    "chinesischer_restklassensatz(congruences)"
   ]
  },
  {
   "cell_type": "code",
   "execution_count": 12,
   "metadata": {},
   "outputs": [
    {
     "name": "stdout",
     "output_type": "stream",
     "text": [
      "Chinesischer Restklassensatz:\n",
      "mod = 11 * 8 * 15 = 1320\n",
      "\n",
      "Calculating term for modulus 11:\n",
      "pp = 120, inverse = 10\n",
      "Term = 3 * 120 * 10 = 3600\n",
      "\n",
      "Calculating term for modulus 8:\n",
      "pp = 165, inverse = 5\n",
      "Term = 6 * 165 * 5 = 4950\n",
      "\n",
      "Calculating term for modulus 15:\n",
      "pp = 88, inverse = 7\n",
      "Term = 1 * 88 * 7 = 616\n",
      "\n",
      "Final result:\n",
      "z = 3600 + 4950 + 616 = 1246 mod 1320\n"
     ]
    },
    {
     "data": {
      "text/plain": [
       "1246"
      ]
     },
     "execution_count": 12,
     "metadata": {},
     "output_type": "execute_result"
    }
   ],
   "source": [
    "# z = 3 (mod 11) \n",
    "# z = 6 (mod 8)\n",
    "# z = 1 (mod 15)\n",
    "congruences = [\n",
    "    (11, 3), # mod 11, rest 3\n",
    "    (8, 6), # mod 8, rest 6\n",
    "    (15, 1) # mod 15, rest 1\n",
    "    ]\n",
    "chinesischer_restklassensatz(congruences)"
   ]
  },
  {
   "cell_type": "markdown",
   "metadata": {},
   "source": [
    "# Primfaktorzerlegung"
   ]
  },
  {
   "cell_type": "code",
   "execution_count": 13,
   "metadata": {},
   "outputs": [],
   "source": [
    "def p_factorization(n):\n",
    "    i = 2\n",
    "    lst = []\n",
    "    while i * i <= n:\n",
    "        if n % i:\n",
    "            i += 1\n",
    "        else:\n",
    "            n //= i\n",
    "            lst.append(i)\n",
    "    if n > 1:\n",
    "        lst.append(n)\n",
    "    return lst"
   ]
  },
  {
   "cell_type": "code",
   "execution_count": 14,
   "metadata": {},
   "outputs": [
    {
     "data": {
      "text/plain": [
       "[2, 2, 5]"
      ]
     },
     "execution_count": 14,
     "metadata": {},
     "output_type": "execute_result"
    }
   ],
   "source": [
    "p_factorization(20)"
   ]
  },
  {
   "cell_type": "markdown",
   "metadata": {},
   "source": [
    "## Euler'sche Phi-Funktion\n",
    "![Euler'sche Phi-Funktion](images/euler_phi.png)"
   ]
  },
  {
   "cell_type": "code",
   "execution_count": 15,
   "metadata": {},
   "outputs": [],
   "source": [
    "def eulerPhi(n):\n",
    "    factors = p_factorization(n)\n",
    "    phi = n\n",
    "    for factor in factors:\n",
    "        phi *= 1 - 1/factor\n",
    "    return int(phi)"
   ]
  },
  {
   "cell_type": "code",
   "execution_count": 16,
   "metadata": {},
   "outputs": [
    {
     "data": {
      "text/plain": [
       "4"
      ]
     },
     "execution_count": 16,
     "metadata": {},
     "output_type": "execute_result"
    }
   ],
   "source": [
    "eulerPhi(20)"
   ]
  },
  {
   "cell_type": "markdown",
   "metadata": {},
   "source": [
    "# Binomialkoeffizienten\n",
    "\n",
    "![binomialkoeffizienten](./images/binomialkoeffizienten.png)"
   ]
  },
  {
   "cell_type": "code",
   "execution_count": 22,
   "metadata": {},
   "outputs": [],
   "source": [
    "def binomial_coefficient(n, k):\n",
    "    if k > n or k < 0:\n",
    "        return 0\n",
    "    return math.comb(n, k)"
   ]
  },
  {
   "cell_type": "code",
   "execution_count": 23,
   "metadata": {},
   "outputs": [
    {
     "name": "stdout",
     "output_type": "stream",
     "text": [
      "Die Anzahl der Möglichkeiten, 3 Objekte aus 5 zu ziehen, ist: 10\n"
     ]
    }
   ],
   "source": [
    "# Beispielwerte\n",
    "n = 5  # Gesamtanzahl der Objekte\n",
    "k = 3  # Anzahl der zu ziehenden Objekte\n",
    "\n",
    "ergebnis = binomial_coefficient(n, k)\n",
    "print(f\"Die Anzahl der Möglichkeiten, {k} Objekte aus {n} zu ziehen, ist: {ergebnis}\")"
   ]
  },
  {
   "cell_type": "markdown",
   "metadata": {},
   "source": [
    "![binomische_lehrsatz.png](./images/binomische_lehrsatz.png)\n"
   ]
  },
  {
   "cell_type": "code",
   "execution_count": 24,
   "metadata": {},
   "outputs": [],
   "source": [
    "def binomial_expansion(a, b, n):\n",
    "    expansion = []\n",
    "    for k in range(n + 1):\n",
    "        coefficient = math.comb(n, k)\n",
    "        term = f\"{coefficient}*{a}^{n-k}*{b}^{k}\"\n",
    "        expansion.append(term)\n",
    "    return \" + \".join(expansion)"
   ]
  },
  {
   "cell_type": "code",
   "execution_count": 25,
   "metadata": {},
   "outputs": [
    {
     "name": "stdout",
     "output_type": "stream",
     "text": [
      "Die Expansion von (x + y)^3 ist: 1*x^3*y^0 + 3*x^2*y^1 + 3*x^1*y^2 + 1*x^0*y^3\n"
     ]
    }
   ],
   "source": [
    "# Beispielwerte\n",
    "a = 'x'  # erster Term\n",
    "b = 'y'  # zweiter Term\n",
    "n = 3    # exponent\n",
    "\n",
    "ergebnis = binomial_expansion(a, b, n)\n",
    "print(f\"Die Expansion von ({a} + {b})^{n} ist: {ergebnis}\")"
   ]
  },
  {
   "cell_type": "markdown",
   "metadata": {},
   "source": [
    "# Tunierplan - Rundenturnier - Blockplan - BIBD\n",
    "![bibd](images/bibd.png)\n",
    "  \n",
    "\n",
    "Parameter:\n",
    "- v: Anzahl der Varietäten\n",
    "- k: Länge eines Blocks\n",
    "- λ (lambda): sagt, wie oft jede 2-elementige Teilmenge der Varietäten {1, 2, …, v} im Blockplan vorkommt\n",
    "- b: Anzahl der Blöcke (b = v über 2)\n",
    "- r: Wie oft jede Varietät in einem Block vorkommt (r = v - 1)"
   ]
  },
  {
   "cell_type": "code",
   "execution_count": 17,
   "metadata": {},
   "outputs": [],
   "source": [
    "def Tunierplan(v):\n",
    "    pairings = []\n",
    "\n",
    "    for round in range(1, v):\n",
    "        round_pairings = []\n",
    "\n",
    "        for x in range(1, v):\n",
    "            for y in range(x + 1, v):\n",
    "\n",
    "                if (x + y) % (v - 1) == round % (v - 1):\n",
    "                    round_pairings.append((x, y))\n",
    "\n",
    "            if (x + x) % (v - 1) == round % (v - 1):\n",
    "                round_pairings.append((x, v))\n",
    "\n",
    "        pairings.append(round_pairings)\n",
    "    return pairings"
   ]
  },
  {
   "cell_type": "code",
   "execution_count": 18,
   "metadata": {},
   "outputs": [
    {
     "data": {
      "text/markdown": [
       "| Runde 1 | Runde 2 | Runde 3 | Runde 4 | Runde 5 | Runde 6 | Runde 7  |\n",
       "|----------|----------|----------|----------|----------|----------|----------|\n",
       "|(1, 7)|(1, 8)|(1, 2)|(1, 3)|(1, 4)|(1, 5)|(1, 6)|\n",
       "|(2, 6)|(2, 7)|(3, 7)|(2, 8)|(2, 3)|(2, 4)|(2, 5)|\n",
       "|(3, 5)|(3, 6)|(4, 6)|(4, 7)|(5, 7)|(3, 8)|(3, 4)|\n",
       "|(4, 8)|(4, 5)|(5, 8)|(5, 6)|(6, 8)|(6, 7)|(7, 8)|\n"
      ],
      "text/plain": [
       "<IPython.core.display.Markdown object>"
      ]
     },
     "metadata": {},
     "output_type": "display_data"
    }
   ],
   "source": [
    "v = teams = 8\n",
    "plan = Tunierplan(v)\n",
    "\n",
    "table_header = f\"|{'|'.join([f\" Runde {i} \" for i in range(1, len(plan)+ 1)])} |\\n\"\n",
    "table_sep = f\"|{'|'.join([\"----------\" for i in range(1, len(plan)+ 1)])}|\\n\"\n",
    "\n",
    "table_body = \"\"\n",
    "for row in range(len(plan[0])):\n",
    "    for col in range(len(plan)):\n",
    "        table_body += f\"|{plan[col][row]}\"\n",
    "    table_body += \"|\\n\"\n",
    "\n",
    "display(Markdown(table_header + table_sep + table_body))"
   ]
  },
  {
   "cell_type": "markdown",
   "metadata": {},
   "source": [
    "# Prinzip der Inklusion und Exklusion – Siebmethode"
   ]
  },
  {
   "cell_type": "code",
   "execution_count": 19,
   "metadata": {},
   "outputs": [],
   "source": [
    "def calculate_others(total, counts):\n",
    "\n",
    "    keys = [key for key in counts.keys() if len(key) == 1]\n",
    "    characteristics = len(counts)\n",
    "    with_characteristic = 0\n",
    "\n",
    "    display(Math(f\"|\\\\Omega| = 73 \\\\; |r| = {len(keys)}\"))\n",
    "    latex = \"|\\\\Omega|\"\n",
    "\n",
    "    for r in range(1, characteristics + 1):\n",
    "        latex += \"+\" if r % 2 == 0 else \"-\"\n",
    "        latex += \"(\"        \n",
    "        for combo in combinations(range(characteristics), r):\n",
    "            count_key = ''.join(chr(65 + i) for i in combo)\n",
    "\n",
    "            if count_key in counts:\n",
    "                latex += f\"|{count_key}| + \" if len(count_key) == 1 else f\"|{' \\\\cap '.join(count_key)}| + \"\n",
    "                with_characteristic += (-1) ** (r + 1) * counts[count_key]\n",
    "\n",
    "        latex = latex[:-2] + \")\"\n",
    "    \n",
    "    while '))' in latex:\n",
    "        latex = latex.replace('))', ')')\n",
    "    latex += f\" = {total - with_characteristic}\"\n",
    "    display(Math(latex))\n",
    "    \n",
    "    return total - with_characteristic"
   ]
  },
  {
   "cell_type": "code",
   "execution_count": 20,
   "metadata": {},
   "outputs": [
    {
     "data": {
      "text/latex": [
       "$\\displaystyle |\\Omega| = 73 \\; |r| = 3$"
      ],
      "text/plain": [
       "<IPython.core.display.Math object>"
      ]
     },
     "metadata": {},
     "output_type": "display_data"
    },
    {
     "data": {
      "text/latex": [
       "$\\displaystyle |\\Omega|-(|A| + |B| + |C| )+(|A \\cap B| + |A \\cap C| + |B \\cap C| )-(|A \\cap B \\cap C| ) = 4$"
      ],
      "text/plain": [
       "<IPython.core.display.Math object>"
      ]
     },
     "metadata": {},
     "output_type": "display_data"
    },
    {
     "name": "stdout",
     "output_type": "stream",
     "text": [
      "Andere: 4\n"
     ]
    }
   ],
   "source": [
    "total = 55 # 55 Athleten\n",
    "counts = {\n",
    "    'A': 35, # Fußball\n",
    "    'B': 27, # Leichtathletik\n",
    "    'C': 12, # Judo\n",
    "    # 'D': 1, # Handball\n",
    "    'AB': 13, # Fußball, Leichtathletik\n",
    "    'AC': 7, # Fußball, Judo\n",
    "    'BC': 5, # Leichtathletik, Judo\n",
    "    'ABC': 2, # Fußball, Leichtathletik, Judo\n",
    "    # 'ABCD': 1 # Fußball, Leichtathletik, Judo, Handball\n",
    "}\n",
    "\n",
    "print(f\"Andere: {calculate_others(total, counts)}\")"
   ]
  },
  {
   "cell_type": "code",
   "execution_count": 21,
   "metadata": {},
   "outputs": [
    {
     "data": {
      "text/latex": [
       "$\\displaystyle |\\Omega| = 73 \\; |r| = 3$"
      ],
      "text/plain": [
       "<IPython.core.display.Math object>"
      ]
     },
     "metadata": {},
     "output_type": "display_data"
    },
    {
     "data": {
      "text/latex": [
       "$\\displaystyle |\\Omega|-(|A| + |B| + |C| )+(|A \\cap B| + |A \\cap C| + |B \\cap C| )-(|A \\cap B \\cap C| ) = 11$"
      ],
      "text/plain": [
       "<IPython.core.display.Math object>"
      ]
     },
     "metadata": {},
     "output_type": "display_data"
    },
    {
     "name": "stdout",
     "output_type": "stream",
     "text": [
      "Andere: 11\n"
     ]
    }
   ],
   "source": [
    "total = 73\n",
    "counts = {\n",
    "    'A': 20,    \n",
    "    'B': 25,    \n",
    "    'C': 52,    \n",
    "    'AB': 7,     \n",
    "    'AC': 12,    \n",
    "    'BC': 17,    \n",
    "    'ABC': 1\n",
    "}\n",
    "\n",
    "print(f\"Andere: {calculate_others(total, counts)}\")"
   ]
  },
  {
   "cell_type": "markdown",
   "metadata": {},
   "source": [
    "# RSA - Verschlüsselung"
   ]
  },
  {
   "cell_type": "markdown",
   "metadata": {},
   "source": [
    "## Prime"
   ]
  },
  {
   "cell_type": "code",
   "execution_count": 22,
   "metadata": {},
   "outputs": [],
   "source": [
    "def is_prime(n):\n",
    "  # https://stackoverflow.com/questions/15285534/isprime-function-for-python-language\n",
    "  if n == 2 or n == 3: return True\n",
    "  if n < 2 or n%2 == 0: return False\n",
    "  if n < 9: return True\n",
    "  if n%3 == 0: return False\n",
    "  r = int(n**0.5)\n",
    "  # since all primes > 3 are of the form 6n ± 1\n",
    "  # start with f=5 (which is prime)\n",
    "  # and test f, f+2 for being prime\n",
    "  # then loop by 6. \n",
    "  f = 5\n",
    "  while f <= r:\n",
    "    print('\\t',f)\n",
    "    if n % f == 0: return False\n",
    "    if n % (f+2) == 0: return False\n",
    "    f += 6\n",
    "  return True   "
   ]
  },
  {
   "cell_type": "markdown",
   "metadata": {},
   "source": [
    "## RSA"
   ]
  },
  {
   "cell_type": "code",
   "execution_count": 23,
   "metadata": {},
   "outputs": [
    {
     "name": "stdout",
     "output_type": "stream",
     "text": [
      "p, q gültig: True\n",
      "e und phi sind teilerfremd: True\n",
      "c = 8^13 mod 143 = 138\n",
      "w_1 = 138^77 mod 143 = 8\n"
     ]
    }
   ],
   "source": [
    "# Änderbare Parameter\n",
    "# p, q, e, d, w\n",
    "\n",
    "p = 11 # Primzahl, groß\n",
    "q = 13 # Primzahl, groß\n",
    "m = p * q # Modulus, ist öffentlich, schwer zu faktorisieren\n",
    "print(f\"p, q gültig: {is_prime(p) and is_prime(q)}\")\n",
    "\n",
    "# e und phi müssen teilerfremd sein\n",
    "e = 13 # öffentlicher Schlüssel\n",
    "phi = eulerPhi(m)\n",
    "print(f\"e und phi sind teilerfremd: {ggT(e, phi, False) == 1}\")\n",
    "\n",
    "d = 77 # privater Schlüssel\n",
    "w = 8 # Nachricht\n",
    "\n",
    "c = w ** e % m # Verschlüsselung\n",
    "w_1 = c ** d % m # Entschlüsselung\n",
    "\n",
    "print(f\"c = {w}^{e} mod {m} = {c}\")\n",
    "print(f\"w_1 = {c}^{d} mod {m} = {w_1}\")"
   ]
  }
 ],
 "metadata": {
  "kernelspec": {
   "display_name": "venv",
   "language": "python",
   "name": "python3"
  },
  "language_info": {
   "codemirror_mode": {
    "name": "ipython",
    "version": 3
   },
   "file_extension": ".py",
   "mimetype": "text/x-python",
   "name": "python",
   "nbconvert_exporter": "python",
   "pygments_lexer": "ipython3",
   "version": "3.12.5"
  }
 },
 "nbformat": 4,
 "nbformat_minor": 2
}
